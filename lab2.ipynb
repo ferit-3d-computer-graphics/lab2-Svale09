{
 "cells": [
  {
   "cell_type": "markdown",
   "id": "650499c2-ed3c-4cb6-accb-447f0b7752de",
   "metadata": {},
   "source": [
    "# Lab 2: Interactive 3D Visualization and Coordinate Systems, Point Clouds and Voxel Rendering"
   ]
  },
  {
   "cell_type": "markdown",
   "id": "0b3ba050-4d9c-4b32-934e-e0f80ea4afa4",
   "metadata": {},
   "source": [
    "## Part 1: Interactive 3D Visualization and Coordinate Systems"
   ]
  },
  {
   "cell_type": "markdown",
   "id": "8c0197af-8cf4-4d14-8595-a2663e803e16",
   "metadata": {},
   "source": [
    "In this lab, you will learn how to construct interactive 3D scenes using helper tools such as axesHelper, \n",
    "explore transformations using the model_matrix_timeseries, and understand camera controls via interactive demos.\n",
    "We will explore the representation and manipulation of point clouds and voxel-based data structures. \n",
    "Students will experiment with interactive tools to edit, visualize, and compress 3D data."
   ]
  },
  {
   "cell_type": "markdown",
   "id": "1d76c1b2-2dc8-4e4a-9b23-8963b3bcf91d",
   "metadata": {},
   "source": [
    "Learning objectives:\n",
    "- After completing this lab, students will be able to:\n",
    "- Understand 3D coordinate systems and camera views.\n",
    "- Use k3d for rendering and manipulating 3D scenes in Jupyter notebooks.\n",
    "- Create interactive visualizations with camera control and transformation animations.\n",
    "- Interpret and visualize transformation matrices applied to objects in real time.\n",
    "- Load, render, and interact with point cloud datasets.\n",
    "- Use voxel-based visualization techniques.\n",
    "- Implement callbacks for dynamic interaction with voxel data."
   ]
  },
  {
   "cell_type": "markdown",
   "id": "0c264381-9b02-48f1-8328-103c97ab6288",
   "metadata": {},
   "source": [
    "**K3D** is an interactive 3D visualization library for Python, designed to work seamlessly within Jupyter Notebooks. It leverages WebGL through a custom JavaScript frontend to provide real-time rendering of complex 3D scenes directly in the browser. K3D supports a wide range of 3D primitives such as point clouds, meshes, lines, vectors, and volumes, making it ideal for scientific computing, education, and visual analytics. One of its standout features is the ability to interactively rotate, zoom, and pan scenes, as well as dynamically update geometries and attributes through Python code. This makes K3D particularly powerful for creating visual explanations, animations, and hands-on experiments in computer graphics courses."
   ]
  },
  {
   "cell_type": "code",
   "execution_count": 1,
   "id": "77e9d062-5dea-43d6-b7cc-83aa672264c7",
   "metadata": {
    "scrolled": true
   },
   "outputs": [
    {
     "name": "stdout",
     "output_type": "stream",
     "text": [
      "Requirement already satisfied: k3d in c:\\anaconda\\lib\\site-packages (2.16.1)\n",
      "Requirement already satisfied: ipywidgets<9.0.0,>=7.0.0 in c:\\anaconda\\lib\\site-packages (from k3d) (7.8.1)\n",
      "Requirement already satisfied: msgpack in c:\\anaconda\\lib\\site-packages (from k3d) (1.0.3)\n",
      "Requirement already satisfied: numpy in c:\\anaconda\\lib\\site-packages (from k3d) (1.26.4)\n",
      "Requirement already satisfied: traitlets in c:\\anaconda\\lib\\site-packages (from k3d) (5.14.3)\n",
      "Requirement already satisfied: traittypes in c:\\anaconda\\lib\\site-packages (from k3d) (0.2.1)\n",
      "Requirement already satisfied: comm>=0.1.3 in c:\\anaconda\\lib\\site-packages (from ipywidgets<9.0.0,>=7.0.0->k3d) (0.2.1)\n",
      "Requirement already satisfied: ipython-genutils~=0.2.0 in c:\\anaconda\\lib\\site-packages (from ipywidgets<9.0.0,>=7.0.0->k3d) (0.2.0)\n",
      "Requirement already satisfied: widgetsnbextension~=3.6.6 in c:\\anaconda\\lib\\site-packages (from ipywidgets<9.0.0,>=7.0.0->k3d) (3.6.6)\n",
      "Requirement already satisfied: ipython>=4.0.0 in c:\\anaconda\\lib\\site-packages (from ipywidgets<9.0.0,>=7.0.0->k3d) (8.27.0)\n",
      "Requirement already satisfied: jupyterlab-widgets<3,>=1.0.0 in c:\\anaconda\\lib\\site-packages (from ipywidgets<9.0.0,>=7.0.0->k3d) (1.0.0)\n",
      "Requirement already satisfied: decorator in c:\\anaconda\\lib\\site-packages (from ipython>=4.0.0->ipywidgets<9.0.0,>=7.0.0->k3d) (5.1.1)\n",
      "Requirement already satisfied: jedi>=0.16 in c:\\anaconda\\lib\\site-packages (from ipython>=4.0.0->ipywidgets<9.0.0,>=7.0.0->k3d) (0.19.1)\n",
      "Requirement already satisfied: matplotlib-inline in c:\\anaconda\\lib\\site-packages (from ipython>=4.0.0->ipywidgets<9.0.0,>=7.0.0->k3d) (0.1.6)\n",
      "Requirement already satisfied: prompt-toolkit<3.1.0,>=3.0.41 in c:\\anaconda\\lib\\site-packages (from ipython>=4.0.0->ipywidgets<9.0.0,>=7.0.0->k3d) (3.0.43)\n",
      "Requirement already satisfied: pygments>=2.4.0 in c:\\anaconda\\lib\\site-packages (from ipython>=4.0.0->ipywidgets<9.0.0,>=7.0.0->k3d) (2.15.1)\n",
      "Requirement already satisfied: stack-data in c:\\anaconda\\lib\\site-packages (from ipython>=4.0.0->ipywidgets<9.0.0,>=7.0.0->k3d) (0.2.0)\n",
      "Requirement already satisfied: colorama in c:\\anaconda\\lib\\site-packages (from ipython>=4.0.0->ipywidgets<9.0.0,>=7.0.0->k3d) (0.4.6)\n",
      "Requirement already satisfied: notebook>=4.4.1 in c:\\anaconda\\lib\\site-packages (from widgetsnbextension~=3.6.6->ipywidgets<9.0.0,>=7.0.0->k3d) (6.5.7)\n",
      "Requirement already satisfied: parso<0.9.0,>=0.8.3 in c:\\anaconda\\lib\\site-packages (from jedi>=0.16->ipython>=4.0.0->ipywidgets<9.0.0,>=7.0.0->k3d) (0.8.3)\n",
      "Requirement already satisfied: jinja2 in c:\\anaconda\\lib\\site-packages (from notebook>=4.4.1->widgetsnbextension~=3.6.6->ipywidgets<9.0.0,>=7.0.0->k3d) (3.1.4)\n",
      "Requirement already satisfied: tornado>=6.1 in c:\\anaconda\\lib\\site-packages (from notebook>=4.4.1->widgetsnbextension~=3.6.6->ipywidgets<9.0.0,>=7.0.0->k3d) (6.4.1)\n",
      "Requirement already satisfied: pyzmq>=17 in c:\\anaconda\\lib\\site-packages (from notebook>=4.4.1->widgetsnbextension~=3.6.6->ipywidgets<9.0.0,>=7.0.0->k3d) (25.1.2)\n",
      "Requirement already satisfied: argon2-cffi in c:\\anaconda\\lib\\site-packages (from notebook>=4.4.1->widgetsnbextension~=3.6.6->ipywidgets<9.0.0,>=7.0.0->k3d) (21.3.0)\n",
      "Requirement already satisfied: jupyter-core>=4.6.1 in c:\\anaconda\\lib\\site-packages (from notebook>=4.4.1->widgetsnbextension~=3.6.6->ipywidgets<9.0.0,>=7.0.0->k3d) (5.7.2)\n",
      "Requirement already satisfied: jupyter-client<8,>=5.3.4 in c:\\anaconda\\lib\\site-packages (from notebook>=4.4.1->widgetsnbextension~=3.6.6->ipywidgets<9.0.0,>=7.0.0->k3d) (7.4.9)\n",
      "Requirement already satisfied: nbformat in c:\\anaconda\\lib\\site-packages (from notebook>=4.4.1->widgetsnbextension~=3.6.6->ipywidgets<9.0.0,>=7.0.0->k3d) (5.10.4)\n",
      "Requirement already satisfied: nbconvert>=5 in c:\\anaconda\\lib\\site-packages (from notebook>=4.4.1->widgetsnbextension~=3.6.6->ipywidgets<9.0.0,>=7.0.0->k3d) (7.16.4)\n",
      "Requirement already satisfied: nest-asyncio>=1.5 in c:\\anaconda\\lib\\site-packages (from notebook>=4.4.1->widgetsnbextension~=3.6.6->ipywidgets<9.0.0,>=7.0.0->k3d) (1.6.0)\n",
      "Requirement already satisfied: ipykernel in c:\\anaconda\\lib\\site-packages (from notebook>=4.4.1->widgetsnbextension~=3.6.6->ipywidgets<9.0.0,>=7.0.0->k3d) (6.28.0)\n",
      "Requirement already satisfied: Send2Trash>=1.8.0 in c:\\anaconda\\lib\\site-packages (from notebook>=4.4.1->widgetsnbextension~=3.6.6->ipywidgets<9.0.0,>=7.0.0->k3d) (1.8.2)\n",
      "Requirement already satisfied: terminado>=0.8.3 in c:\\anaconda\\lib\\site-packages (from notebook>=4.4.1->widgetsnbextension~=3.6.6->ipywidgets<9.0.0,>=7.0.0->k3d) (0.17.1)\n",
      "Requirement already satisfied: prometheus-client in c:\\anaconda\\lib\\site-packages (from notebook>=4.4.1->widgetsnbextension~=3.6.6->ipywidgets<9.0.0,>=7.0.0->k3d) (0.14.1)\n",
      "Requirement already satisfied: nbclassic>=0.4.7 in c:\\anaconda\\lib\\site-packages (from notebook>=4.4.1->widgetsnbextension~=3.6.6->ipywidgets<9.0.0,>=7.0.0->k3d) (1.2.0)\n",
      "Requirement already satisfied: wcwidth in c:\\anaconda\\lib\\site-packages (from prompt-toolkit<3.1.0,>=3.0.41->ipython>=4.0.0->ipywidgets<9.0.0,>=7.0.0->k3d) (0.2.5)\n",
      "Requirement already satisfied: executing in c:\\anaconda\\lib\\site-packages (from stack-data->ipython>=4.0.0->ipywidgets<9.0.0,>=7.0.0->k3d) (0.8.3)\n",
      "Requirement already satisfied: asttokens in c:\\anaconda\\lib\\site-packages (from stack-data->ipython>=4.0.0->ipywidgets<9.0.0,>=7.0.0->k3d) (2.0.5)\n",
      "Requirement already satisfied: pure-eval in c:\\anaconda\\lib\\site-packages (from stack-data->ipython>=4.0.0->ipywidgets<9.0.0,>=7.0.0->k3d) (0.2.2)\n",
      "Requirement already satisfied: entrypoints in c:\\anaconda\\lib\\site-packages (from jupyter-client<8,>=5.3.4->notebook>=4.4.1->widgetsnbextension~=3.6.6->ipywidgets<9.0.0,>=7.0.0->k3d) (0.4)\n",
      "Requirement already satisfied: python-dateutil>=2.8.2 in c:\\anaconda\\lib\\site-packages (from jupyter-client<8,>=5.3.4->notebook>=4.4.1->widgetsnbextension~=3.6.6->ipywidgets<9.0.0,>=7.0.0->k3d) (2.9.0.post0)\n",
      "Requirement already satisfied: platformdirs>=2.5 in c:\\anaconda\\lib\\site-packages (from jupyter-core>=4.6.1->notebook>=4.4.1->widgetsnbextension~=3.6.6->ipywidgets<9.0.0,>=7.0.0->k3d) (3.10.0)\n",
      "Requirement already satisfied: pywin32>=300 in c:\\anaconda\\lib\\site-packages (from jupyter-core>=4.6.1->notebook>=4.4.1->widgetsnbextension~=3.6.6->ipywidgets<9.0.0,>=7.0.0->k3d) (305.1)\n",
      "Requirement already satisfied: notebook_shim>=0.2.3 in c:\\anaconda\\lib\\site-packages (from nbclassic>=0.4.7->notebook>=4.4.1->widgetsnbextension~=3.6.6->ipywidgets<9.0.0,>=7.0.0->k3d) (0.2.3)\n",
      "Requirement already satisfied: beautifulsoup4 in c:\\anaconda\\lib\\site-packages (from nbconvert>=5->notebook>=4.4.1->widgetsnbextension~=3.6.6->ipywidgets<9.0.0,>=7.0.0->k3d) (4.12.3)\n",
      "Requirement already satisfied: bleach!=5.0.0 in c:\\anaconda\\lib\\site-packages (from nbconvert>=5->notebook>=4.4.1->widgetsnbextension~=3.6.6->ipywidgets<9.0.0,>=7.0.0->k3d) (4.1.0)\n",
      "Requirement already satisfied: defusedxml in c:\\anaconda\\lib\\site-packages (from nbconvert>=5->notebook>=4.4.1->widgetsnbextension~=3.6.6->ipywidgets<9.0.0,>=7.0.0->k3d) (0.7.1)\n",
      "Requirement already satisfied: jupyterlab-pygments in c:\\anaconda\\lib\\site-packages (from nbconvert>=5->notebook>=4.4.1->widgetsnbextension~=3.6.6->ipywidgets<9.0.0,>=7.0.0->k3d) (0.1.2)\n",
      "Requirement already satisfied: markupsafe>=2.0 in c:\\anaconda\\lib\\site-packages (from nbconvert>=5->notebook>=4.4.1->widgetsnbextension~=3.6.6->ipywidgets<9.0.0,>=7.0.0->k3d) (2.1.3)\n",
      "Requirement already satisfied: mistune<4,>=2.0.3 in c:\\anaconda\\lib\\site-packages (from nbconvert>=5->notebook>=4.4.1->widgetsnbextension~=3.6.6->ipywidgets<9.0.0,>=7.0.0->k3d) (2.0.4)\n",
      "Requirement already satisfied: nbclient>=0.5.0 in c:\\anaconda\\lib\\site-packages (from nbconvert>=5->notebook>=4.4.1->widgetsnbextension~=3.6.6->ipywidgets<9.0.0,>=7.0.0->k3d) (0.8.0)\n",
      "Requirement already satisfied: packaging in c:\\anaconda\\lib\\site-packages (from nbconvert>=5->notebook>=4.4.1->widgetsnbextension~=3.6.6->ipywidgets<9.0.0,>=7.0.0->k3d) (24.1)\n",
      "Requirement already satisfied: pandocfilters>=1.4.1 in c:\\anaconda\\lib\\site-packages (from nbconvert>=5->notebook>=4.4.1->widgetsnbextension~=3.6.6->ipywidgets<9.0.0,>=7.0.0->k3d) (1.5.0)\n",
      "Requirement already satisfied: tinycss2 in c:\\anaconda\\lib\\site-packages (from nbconvert>=5->notebook>=4.4.1->widgetsnbextension~=3.6.6->ipywidgets<9.0.0,>=7.0.0->k3d) (1.2.1)\n",
      "Requirement already satisfied: fastjsonschema>=2.15 in c:\\anaconda\\lib\\site-packages (from nbformat->notebook>=4.4.1->widgetsnbextension~=3.6.6->ipywidgets<9.0.0,>=7.0.0->k3d) (2.16.2)\n",
      "Requirement already satisfied: jsonschema>=2.6 in c:\\anaconda\\lib\\site-packages (from nbformat->notebook>=4.4.1->widgetsnbextension~=3.6.6->ipywidgets<9.0.0,>=7.0.0->k3d) (4.23.0)\n",
      "Requirement already satisfied: pywinpty>=1.1.0 in c:\\anaconda\\lib\\site-packages (from terminado>=0.8.3->notebook>=4.4.1->widgetsnbextension~=3.6.6->ipywidgets<9.0.0,>=7.0.0->k3d) (2.0.10)\n",
      "Requirement already satisfied: argon2-cffi-bindings in c:\\anaconda\\lib\\site-packages (from argon2-cffi->notebook>=4.4.1->widgetsnbextension~=3.6.6->ipywidgets<9.0.0,>=7.0.0->k3d) (21.2.0)\n",
      "Requirement already satisfied: six in c:\\anaconda\\lib\\site-packages (from asttokens->stack-data->ipython>=4.0.0->ipywidgets<9.0.0,>=7.0.0->k3d) (1.16.0)\n",
      "Requirement already satisfied: debugpy>=1.6.5 in c:\\anaconda\\lib\\site-packages (from ipykernel->notebook>=4.4.1->widgetsnbextension~=3.6.6->ipywidgets<9.0.0,>=7.0.0->k3d) (1.6.7)\n",
      "Requirement already satisfied: psutil in c:\\anaconda\\lib\\site-packages (from ipykernel->notebook>=4.4.1->widgetsnbextension~=3.6.6->ipywidgets<9.0.0,>=7.0.0->k3d) (5.9.0)\n",
      "Requirement already satisfied: webencodings in c:\\anaconda\\lib\\site-packages (from bleach!=5.0.0->nbconvert>=5->notebook>=4.4.1->widgetsnbextension~=3.6.6->ipywidgets<9.0.0,>=7.0.0->k3d) (0.5.1)\n",
      "Requirement already satisfied: attrs>=22.2.0 in c:\\anaconda\\lib\\site-packages (from jsonschema>=2.6->nbformat->notebook>=4.4.1->widgetsnbextension~=3.6.6->ipywidgets<9.0.0,>=7.0.0->k3d) (23.1.0)\n",
      "Requirement already satisfied: jsonschema-specifications>=2023.03.6 in c:\\anaconda\\lib\\site-packages (from jsonschema>=2.6->nbformat->notebook>=4.4.1->widgetsnbextension~=3.6.6->ipywidgets<9.0.0,>=7.0.0->k3d) (2023.7.1)\n",
      "Requirement already satisfied: referencing>=0.28.4 in c:\\anaconda\\lib\\site-packages (from jsonschema>=2.6->nbformat->notebook>=4.4.1->widgetsnbextension~=3.6.6->ipywidgets<9.0.0,>=7.0.0->k3d) (0.30.2)\n",
      "Requirement already satisfied: rpds-py>=0.7.1 in c:\\anaconda\\lib\\site-packages (from jsonschema>=2.6->nbformat->notebook>=4.4.1->widgetsnbextension~=3.6.6->ipywidgets<9.0.0,>=7.0.0->k3d) (0.10.6)\n",
      "Requirement already satisfied: jupyter-server<3,>=1.8 in c:\\anaconda\\lib\\site-packages (from notebook_shim>=0.2.3->nbclassic>=0.4.7->notebook>=4.4.1->widgetsnbextension~=3.6.6->ipywidgets<9.0.0,>=7.0.0->k3d) (2.14.1)\n",
      "Requirement already satisfied: cffi>=1.0.1 in c:\\anaconda\\lib\\site-packages (from argon2-cffi-bindings->argon2-cffi->notebook>=4.4.1->widgetsnbextension~=3.6.6->ipywidgets<9.0.0,>=7.0.0->k3d) (1.17.1)\n",
      "Requirement already satisfied: soupsieve>1.2 in c:\\anaconda\\lib\\site-packages (from beautifulsoup4->nbconvert>=5->notebook>=4.4.1->widgetsnbextension~=3.6.6->ipywidgets<9.0.0,>=7.0.0->k3d) (2.5)\n",
      "Requirement already satisfied: pycparser in c:\\anaconda\\lib\\site-packages (from cffi>=1.0.1->argon2-cffi-bindings->argon2-cffi->notebook>=4.4.1->widgetsnbextension~=3.6.6->ipywidgets<9.0.0,>=7.0.0->k3d) (2.21)\n",
      "Requirement already satisfied: anyio>=3.1.0 in c:\\anaconda\\lib\\site-packages (from jupyter-server<3,>=1.8->notebook_shim>=0.2.3->nbclassic>=0.4.7->notebook>=4.4.1->widgetsnbextension~=3.6.6->ipywidgets<9.0.0,>=7.0.0->k3d) (4.2.0)\n",
      "Requirement already satisfied: jupyter-events>=0.9.0 in c:\\anaconda\\lib\\site-packages (from jupyter-server<3,>=1.8->notebook_shim>=0.2.3->nbclassic>=0.4.7->notebook>=4.4.1->widgetsnbextension~=3.6.6->ipywidgets<9.0.0,>=7.0.0->k3d) (0.10.0)\n",
      "Requirement already satisfied: jupyter-server-terminals>=0.4.4 in c:\\anaconda\\lib\\site-packages (from jupyter-server<3,>=1.8->notebook_shim>=0.2.3->nbclassic>=0.4.7->notebook>=4.4.1->widgetsnbextension~=3.6.6->ipywidgets<9.0.0,>=7.0.0->k3d) (0.4.4)\n",
      "Requirement already satisfied: overrides>=5.0 in c:\\anaconda\\lib\\site-packages (from jupyter-server<3,>=1.8->notebook_shim>=0.2.3->nbclassic>=0.4.7->notebook>=4.4.1->widgetsnbextension~=3.6.6->ipywidgets<9.0.0,>=7.0.0->k3d) (7.4.0)\n",
      "Requirement already satisfied: websocket-client>=1.7 in c:\\anaconda\\lib\\site-packages (from jupyter-server<3,>=1.8->notebook_shim>=0.2.3->nbclassic>=0.4.7->notebook>=4.4.1->widgetsnbextension~=3.6.6->ipywidgets<9.0.0,>=7.0.0->k3d) (1.8.0)\n",
      "Requirement already satisfied: idna>=2.8 in c:\\anaconda\\lib\\site-packages (from anyio>=3.1.0->jupyter-server<3,>=1.8->notebook_shim>=0.2.3->nbclassic>=0.4.7->notebook>=4.4.1->widgetsnbextension~=3.6.6->ipywidgets<9.0.0,>=7.0.0->k3d) (3.7)\n",
      "Requirement already satisfied: sniffio>=1.1 in c:\\anaconda\\lib\\site-packages (from anyio>=3.1.0->jupyter-server<3,>=1.8->notebook_shim>=0.2.3->nbclassic>=0.4.7->notebook>=4.4.1->widgetsnbextension~=3.6.6->ipywidgets<9.0.0,>=7.0.0->k3d) (1.3.0)\n",
      "Requirement already satisfied: python-json-logger>=2.0.4 in c:\\anaconda\\lib\\site-packages (from jupyter-events>=0.9.0->jupyter-server<3,>=1.8->notebook_shim>=0.2.3->nbclassic>=0.4.7->notebook>=4.4.1->widgetsnbextension~=3.6.6->ipywidgets<9.0.0,>=7.0.0->k3d) (2.0.7)\n",
      "Requirement already satisfied: pyyaml>=5.3 in c:\\anaconda\\lib\\site-packages (from jupyter-events>=0.9.0->jupyter-server<3,>=1.8->notebook_shim>=0.2.3->nbclassic>=0.4.7->notebook>=4.4.1->widgetsnbextension~=3.6.6->ipywidgets<9.0.0,>=7.0.0->k3d) (6.0.1)\n",
      "Requirement already satisfied: rfc3339-validator in c:\\anaconda\\lib\\site-packages (from jupyter-events>=0.9.0->jupyter-server<3,>=1.8->notebook_shim>=0.2.3->nbclassic>=0.4.7->notebook>=4.4.1->widgetsnbextension~=3.6.6->ipywidgets<9.0.0,>=7.0.0->k3d) (0.1.4)\n",
      "Requirement already satisfied: rfc3986-validator>=0.1.1 in c:\\anaconda\\lib\\site-packages (from jupyter-events>=0.9.0->jupyter-server<3,>=1.8->notebook_shim>=0.2.3->nbclassic>=0.4.7->notebook>=4.4.1->widgetsnbextension~=3.6.6->ipywidgets<9.0.0,>=7.0.0->k3d) (0.1.1)\n",
      "Requirement already satisfied: fqdn in c:\\anaconda\\lib\\site-packages (from jsonschema[format-nongpl]>=4.18.0->jupyter-events>=0.9.0->jupyter-server<3,>=1.8->notebook_shim>=0.2.3->nbclassic>=0.4.7->notebook>=4.4.1->widgetsnbextension~=3.6.6->ipywidgets<9.0.0,>=7.0.0->k3d) (1.5.1)\n",
      "Requirement already satisfied: isoduration in c:\\anaconda\\lib\\site-packages (from jsonschema[format-nongpl]>=4.18.0->jupyter-events>=0.9.0->jupyter-server<3,>=1.8->notebook_shim>=0.2.3->nbclassic>=0.4.7->notebook>=4.4.1->widgetsnbextension~=3.6.6->ipywidgets<9.0.0,>=7.0.0->k3d) (20.11.0)\n",
      "Requirement already satisfied: jsonpointer>1.13 in c:\\anaconda\\lib\\site-packages (from jsonschema[format-nongpl]>=4.18.0->jupyter-events>=0.9.0->jupyter-server<3,>=1.8->notebook_shim>=0.2.3->nbclassic>=0.4.7->notebook>=4.4.1->widgetsnbextension~=3.6.6->ipywidgets<9.0.0,>=7.0.0->k3d) (2.1)\n",
      "Requirement already satisfied: uri-template in c:\\anaconda\\lib\\site-packages (from jsonschema[format-nongpl]>=4.18.0->jupyter-events>=0.9.0->jupyter-server<3,>=1.8->notebook_shim>=0.2.3->nbclassic>=0.4.7->notebook>=4.4.1->widgetsnbextension~=3.6.6->ipywidgets<9.0.0,>=7.0.0->k3d) (1.3.0)\n",
      "Requirement already satisfied: webcolors>=24.6.0 in c:\\anaconda\\lib\\site-packages (from jsonschema[format-nongpl]>=4.18.0->jupyter-events>=0.9.0->jupyter-server<3,>=1.8->notebook_shim>=0.2.3->nbclassic>=0.4.7->notebook>=4.4.1->widgetsnbextension~=3.6.6->ipywidgets<9.0.0,>=7.0.0->k3d) (24.11.1)\n",
      "Requirement already satisfied: arrow>=0.15.0 in c:\\anaconda\\lib\\site-packages (from isoduration->jsonschema[format-nongpl]>=4.18.0->jupyter-events>=0.9.0->jupyter-server<3,>=1.8->notebook_shim>=0.2.3->nbclassic>=0.4.7->notebook>=4.4.1->widgetsnbextension~=3.6.6->ipywidgets<9.0.0,>=7.0.0->k3d) (1.2.3)\n",
      "Note: you may need to restart the kernel to use updated packages.\n"
     ]
    }
   ],
   "source": [
    "pip install k3d"
   ]
  },
  {
   "cell_type": "code",
   "execution_count": 2,
   "id": "1e7aee8c-aa08-4c3e-9f0c-79452d17558c",
   "metadata": {},
   "outputs": [],
   "source": [
    "import k3d\n",
    "import numpy as np\n",
    "import math\n",
    "from numpy import sin,cos,pi\n",
    "from ipywidgets import interact, IntSlider"
   ]
  },
  {
   "cell_type": "markdown",
   "id": "631e2bf8-993e-468c-9ef7-9972a87d1bc0",
   "metadata": {},
   "source": [
    "## Coordinate System and Axes Helper\n",
    "\n",
    "As already seen in Lab 1, in 3D computer graphics, a coordinate system defines how objects are positioned and oriented in space. Most commonly, a right-handed Cartesian coordinate system is used, where each point in space is described by three values (x, y, z). The X-axis typically points to the right, the Y-axis upward, and the Z-axis outward (or inward, depending on the convention). Understanding this system is fundamental for modeling, transforming, and visualizing 3D objects. \n",
    "\n",
    "An axes helper is a visual aid that displays the orientation of these three axes, often using colored lines (e.g., red for X, green for Y, and blue for Z). It helps users interpret the spatial arrangement of objects in a scene, especially when rotating the camera or applying transformations. In visualization tools like K3D, manually adding axes using lines serves as a custom implementation of an axes helper, enabling better spatial awareness and easier debugging of 3D scenes."
   ]
  },
  {
   "cell_type": "markdown",
   "id": "19c8ce20-3a79-4de4-b415-22a5ca6786e0",
   "metadata": {},
   "source": [
    "### Custom Axis Labels in K3D\n",
    "\n",
    "The line `plot = k3d.plot(axes=['\\\\alpha', '\\\\beta', '\\\\gamma'])` creates a 3D plot using the K3D library with **custom axis labels**. Instead of the default `x`, `y`, and `z` labels, this example uses Greek letters: α (alpha), β (beta), and γ (gamma). These labels are specified using LaTeX-style strings, which K3D supports for mathematical formatting. Custom axis labels are especially useful when visualizing domain-specific data, such as angular parameters, tensor components, or coordinate transformations in physics or engineering, where traditional x/y/z labels may not be meaningful. Calling `plot.display()` renders the interactive 3D plot in the Jupyter notebook."
   ]
  },
  {
   "cell_type": "code",
   "execution_count": 3,
   "id": "a0c006c6-8bd6-420c-a15e-37e05aa62056",
   "metadata": {},
   "outputs": [
    {
     "data": {
      "application/vnd.jupyter.widget-view+json": {
       "model_id": "a30ff0c498dd469cbd232dad0ee912c3",
       "version_major": 2,
       "version_minor": 0
      },
      "text/plain": [
       "Output()"
      ]
     },
     "metadata": {},
     "output_type": "display_data"
    }
   ],
   "source": [
    "plot = k3d.plot(axes=['\\\\alpha', '\\\\beta', '\\\\gamma'])\n",
    "plot.display()"
   ]
  },
  {
   "cell_type": "markdown",
   "id": "d3a89512-3dda-4933-bda4-b46efa2a6c02",
   "metadata": {},
   "source": [
    "The `axes_helper` attribute in K3D controls the visibility and size of the built-in coordinate axes displayed in the plot. By setting `plot.axes_helper = 0`, the axes helper is hidden, while `plot.axes_helper = 1` enables it with a default size. The example below uses `ipywidgets` and the `@interact` decorator to create an interactive slider that allows the user to dynamically adjust the size of the axes helper in real time."
   ]
  },
  {
   "cell_type": "code",
   "execution_count": 4,
   "id": "f1aca71e-1794-41bf-b2b7-f5a4c09e15c1",
   "metadata": {},
   "outputs": [],
   "source": [
    "plot.axes_helper = 0"
   ]
  },
  {
   "cell_type": "code",
   "execution_count": 5,
   "id": "bfd02f42-f017-4a97-8d2c-a58100f58b76",
   "metadata": {},
   "outputs": [],
   "source": [
    "plot.axes_helper = 1"
   ]
  },
  {
   "cell_type": "code",
   "execution_count": 6,
   "id": "666f8bea-af59-4ec8-bfad-dc07cf08fa18",
   "metadata": {},
   "outputs": [
    {
     "data": {
      "application/vnd.jupyter.widget-view+json": {
       "model_id": "c240058e5b9b45db88f09923327b0af3",
       "version_major": 2,
       "version_minor": 0
      },
      "text/plain": [
       "interactive(children=(FloatSlider(value=1.0, description='size', max=200.0), Output()), _dom_classes=('widget-…"
      ]
     },
     "metadata": {},
     "output_type": "display_data"
    }
   ],
   "source": [
    "from ipywidgets import interact\n",
    "import ipywidgets as widgets\n",
    "\n",
    "@interact(size=widgets.FloatSlider(min=0.0, max=200, value=1.0))\n",
    "def g(size):\n",
    "    plot.axes_helper=size"
   ]
  },
  {
   "cell_type": "code",
   "execution_count": 7,
   "id": "fee95eb7-8371-4fa6-8052-ff94a0e21f56",
   "metadata": {},
   "outputs": [],
   "source": [
    "plot.axes_helper = 3"
   ]
  },
  {
   "cell_type": "code",
   "execution_count": 8,
   "id": "3225e4d4-fc6a-49b3-b061-1e97e7fb0fe5",
   "metadata": {},
   "outputs": [
    {
     "data": {
      "application/vnd.jupyter.widget-view+json": {
       "model_id": "c12e3c4369d64e5c9c573953ca784a38",
       "version_major": 2,
       "version_minor": 0
      },
      "text/plain": [
       "Output()"
      ]
     },
     "metadata": {},
     "output_type": "display_data"
    }
   ],
   "source": [
    "plt = k3d.text('Text')\n",
    "plt"
   ]
  },
  {
   "cell_type": "code",
   "execution_count": 9,
   "id": "2c404e19-c37a-4136-a73e-702ed09d171e",
   "metadata": {},
   "outputs": [
    {
     "name": "stderr",
     "output_type": "stream",
     "text": [
      "<>:1: SyntaxWarning: invalid escape sequence '\\i'\n",
      "<>:1: SyntaxWarning: invalid escape sequence '\\i'\n",
      "C:\\Users\\Svale\\AppData\\Local\\Temp\\ipykernel_88912\\1557127344.py:1: SyntaxWarning: invalid escape sequence '\\i'\n",
      "  plt.text = '\\int_0^2 n y+ \\sin x'\n"
     ]
    }
   ],
   "source": [
    "plt.text = '\\int_0^2 n y+ \\sin x'"
   ]
  },
  {
   "cell_type": "markdown",
   "id": "d6105db4-a9bd-4f09-9668-7449d25a4a68",
   "metadata": {},
   "source": [
    "## Camera Manipulation in K3D\n",
    "\n",
    "K3D allows users to interactively manipulate the camera view within a 3D scene, enabling rotation, zoom, and panning using the mouse. Beyond these interactive controls, the camera can also be programmatically controlled through the `plot.camera` property. This property accepts a list of nine values that define the camera's configuration: the first three values specify the camera position, the next three define the point it is looking at (target), and the final three represent the up direction vector. By adjusting these parameters, users can script precise camera views, simulate camera motion, or align the view to follow moving objects. Additionally, camera auto-fitting can be controlled with `plot.camera_auto_fit`, which when disabled allows full manual control over the camera's state. This capability is particularly important in applications such as simulation playback, animations, and camera path visualization in robotics or cinematography.\n",
    "\n",
    "### Example 1. Visualizing Camera and Object Trajectories in 3D\n",
    "\n",
    "The following example creates a 3D visualization that simulates and displays the trajectories of a camera and an object moving through space. First, a `k3d.plot()` is initialized, and a single arrow is added using `k3d.vectors` to represent a direction in space from the origin to the point (1, 1, 1).\n",
    "\n",
    "Two trajectories are then generated:\n",
    "- `cam_traj`: the camera trajectory, forming a spiral-like path in 3D space.\n",
    "- `object_traj`: the object's trajectory, which follows a wavy and non-linear path.\n",
    "\n",
    "Both trajectories are sampled with 100 points (`N = 100`) and visualized using `k3d.line`. The camera trajectory is shown with the default color and a simple shader, while the object trajectory is colored red (`0xff0000`) and rendered with a mesh shader for a more pronounced appearance.\n",
    "\n",
    "The current positions of the camera and the object are also marked using `k3d.points`, initialized at the same starting point `[0, -1, 0]`. These can later be updated dynamically to animate movement along their respective paths.\n",
    "\n",
    "This setup is particularly useful for visualizing motion planning, path-following, or camera tracking scenarios in robotics, animation, or simulation tasks. \n",
    "\n",
    "(Blue line is a camera path and the object is moving on the red line.)"
   ]
  },
  {
   "cell_type": "code",
   "execution_count": 10,
   "id": "a69bac49-c43f-4616-864f-d67aa698c095",
   "metadata": {},
   "outputs": [],
   "source": [
    "plot = k3d.plot()\n",
    "\n",
    "plt_arrow = k3d.vectors([0,0,0],[1,1,1])\n",
    "plot += plt_arrow\n",
    "\n",
    "N = 100\n",
    "cam_traj = [np.array([-sin(phi), -cos(phi), phi*0.15],dtype=np.float32) for phi in np.linspace(0,2*pi,N)]\n",
    "object_traj = [np.array([sin(phi),-1+cos(phi)+sin(2*phi),0.03*phi],dtype=np.float32) for phi in np.linspace(0,2*pi,N)]\n",
    "\n",
    "plt_cam_traj = k3d.line(cam_traj ,shader='simple')\n",
    "plt_object_traj = k3d.line(object_traj, color=0xff0000,shader='mesh')\n",
    "\n",
    "plt_cam_pos = k3d.points([[0, -1, 0]],point_size=0.1,shader='mesh')\n",
    "plt_object_pos = k3d.points([[0, -1, 0]],color=0xff0000,point_size=0.1,shader='mesh')\n",
    "\n",
    "plot += plt_cam_traj\n",
    "plot += plt_object_traj\n",
    "plot += plt_object_pos\n",
    "plot += plt_cam_pos"
   ]
  },
  {
   "cell_type": "code",
   "execution_count": 11,
   "id": "0fa43bd4-1530-481d-b048-f03a6070ab34",
   "metadata": {
    "scrolled": true
   },
   "outputs": [
    {
     "data": {
      "application/vnd.jupyter.widget-view+json": {
       "model_id": "a1373f93fc7c4e309f79989ddf67dba6",
       "version_major": 2,
       "version_minor": 0
      },
      "text/plain": [
       "Plot(antialias=3, axes=['x', 'y', 'z'], axes_helper=1.0, axes_helper_colors=[16711680, 65280, 255], background…"
      ]
     },
     "metadata": {},
     "output_type": "display_data"
    }
   ],
   "source": [
    "plot"
   ]
  },
  {
   "cell_type": "markdown",
   "id": "7231315d-db14-49e6-ad15-5f294ebac868",
   "metadata": {},
   "source": [
    "### Example 2. Visualization of a 3D Point and Wireframe Cube with Coordinate Axes\n",
    "\n",
    "This example demonstrates how to construct a 3D reference scene in K3D that includes coordinate axes, a spatial marker (point), and a manually defined wireframe cube. First, the X, Y, and Z axes are visualized using three color-coded lines—red for X, green for Y, and blue for Z—originating from the coordinate origin (0, 0, 0). A yellow point is then added at position (1, 2, 3) to mark a specific location in space.\n",
    "\n",
    "To further enrich the scene, a cube centered at (1, 2, 3) with side length 1.0 is created manually by defining its eight vertices and connecting them using line segments to form the cube’s twelve edges. The cube is rendered as a cyan wireframe using `k3d.line`, giving a clear visual reference of a volumetric object in space. This type of manual geometry construction is valuable for understanding spatial relationships, testing transformation logic, or creating visual aids for educational and simulation purposes.\n"
   ]
  },
  {
   "cell_type": "code",
   "execution_count": 12,
   "id": "ea4ca61b-c800-4063-a480-2a646febde03",
   "metadata": {},
   "outputs": [
    {
     "name": "stderr",
     "output_type": "stream",
     "text": [
      "C:\\Anaconda\\Lib\\site-packages\\traittypes\\traittypes.py:97: UserWarning: Given trait value dtype \"int32\" does not match required type \"float32\". A coerced copy has been created.\n",
      "  warnings.warn(\n",
      "C:\\Anaconda\\Lib\\site-packages\\traittypes\\traittypes.py:97: UserWarning: Given trait value dtype \"float64\" does not match required type \"float32\". A coerced copy has been created.\n",
      "  warnings.warn(\n"
     ]
    },
    {
     "data": {
      "application/vnd.jupyter.widget-view+json": {
       "model_id": "63fb2b2b6ab8418580f3cb179b480701",
       "version_major": 2,
       "version_minor": 0
      },
      "text/plain": [
       "Output()"
      ]
     },
     "metadata": {},
     "output_type": "display_data"
    }
   ],
   "source": [
    "plot = k3d.plot()\n",
    "\n",
    "# Draw Axes (X - Red, Y - Green, Z - Blue)\n",
    "plot += k3d.line(np.array([[0, 0, 0], [1, 0, 0]]), color=0xff0000, width=0.01)  # X\n",
    "plot += k3d.line(np.array([[0, 0, 0], [0, 1, 0]]), color=0x00ff00, width=0.01)  # Y\n",
    "plot += k3d.line(np.array([[0, 0, 0], [0, 0, 1]]), color=0x0000ff, width=0.01)  # Z\n",
    "\n",
    "# Add a point at (1, 2, 3)\n",
    "plot += k3d.points(positions=np.array([[1, 2, 3]]), point_size=0.2, color=0xffff00)\n",
    "\n",
    "# Define cube vertices (side = 1.0)\n",
    "s = 0.5\n",
    "cx, cy, cz = 1.0, 2.0, 3.0  # Center of cube\n",
    "vertices = np.array([\n",
    "    [cx - s, cy - s, cz - s],\n",
    "    [cx + s, cy - s, cz - s],\n",
    "    [cx + s, cy + s, cz - s],\n",
    "    [cx - s, cy + s, cz - s],\n",
    "    [cx - s, cy - s, cz + s],\n",
    "    [cx + s, cy - s, cz + s],\n",
    "    [cx + s, cy + s, cz + s],\n",
    "    [cx - s, cy + s, cz + s]\n",
    "])\n",
    "\n",
    "# Define cube edges by connecting vertex indices\n",
    "edges = [\n",
    "    [0,1], [1,2], [2,3], [3,0],\n",
    "    [4,5], [5,6], [6,7], [7,4],\n",
    "    [0,4], [1,5], [2,6], [3,7]\n",
    "]\n",
    "\n",
    "# Create lines for the cube edges\n",
    "for edge in edges:\n",
    "    line = k3d.line(vertices[edge], width=0.01, color=0x00ffff)\n",
    "    plot += line\n",
    "\n",
    "plot.display()"
   ]
  },
  {
   "cell_type": "markdown",
   "id": "fb22887c-922a-4b5c-8a2f-7d915cac2335",
   "metadata": {},
   "source": [
    "### Example 3. Animation Using Transformation Matrices in K3D\n",
    "\n",
    "The following example illustrates how to animate a 3D object using a series of transformation matrices in K3D. A sequence of 4×4 model matrices is generated to represent rotation around the Z-axis over time. The rotation angle is calculated as a function of time using a full 360° (2π radians) cycle divided into 60 discrete steps. Each matrix not only performs the rotation but also includes a translation along the X-axis by 1 unit, allowing the object to orbit around the origin instead of rotating in place.\n",
    "\n",
    "A single point located at (1, 0, 0) is created and assigned the first model matrix. The K3D plot is then displayed, and the object’s transformation is updated in a loop by assigning each matrix in the sequence to its `model_matrix` attribute. This results in a smooth, animated motion of the point tracing a circular path in the XY-plane. The example showcases how transformation matrices can be used in K3D to simulate object motion and is particularly useful for understanding rotational kinematics, orbital motion, and animation principles in 3D graphics.\n"
   ]
  },
  {
   "cell_type": "code",
   "execution_count": 13,
   "id": "57232a47-b909-4bb6-879d-99aa36312c7d",
   "metadata": {},
   "outputs": [
    {
     "data": {
      "application/vnd.jupyter.widget-view+json": {
       "model_id": "f2d311eaeb734678ac453bc1b678bdf0",
       "version_major": 2,
       "version_minor": 0
      },
      "text/plain": [
       "Output()"
      ]
     },
     "metadata": {},
     "output_type": "display_data"
    }
   ],
   "source": [
    "# Create 60 evenly spaced time steps between 0 and 1\n",
    "times = np.linspace(0, 1, 60)\n",
    "\n",
    "# Initialize an empty list to store transformation (model) matrices\n",
    "model_matrices = []\n",
    "\n",
    "# Loop over each time step to create a rotation matrix\n",
    "for t in times:\n",
    "    angle = 2 * math.pi * t  # Compute rotation angle (in radians), completing one full circle (0 to 2π)\n",
    "\n",
    "    # Define a 4x4 transformation matrix:\n",
    "    # - Applies rotation in the XY-plane\n",
    "    # - Translates the object 1 unit along the X-axis\n",
    "    matrix = np.array([\n",
    "        [math.cos(angle), -math.sin(angle), 0.0, 1.0],  # First row: X-axis direction + translation on X\n",
    "        [math.sin(angle),  math.cos(angle), 0.0, 0.0],  # Second row: Y-axis direction\n",
    "        [0.0,              0.0,             1.0, 0.0],  # Third row: Z-axis (no change)\n",
    "        [0.0,              0.0,             0.0, 1.0]   # Fourth row: homogeneous coordinate\n",
    "    ])\n",
    "\n",
    "    # Store the matrix in the list for later use in animation\n",
    "    model_matrices.append(matrix)\n",
    "\n",
    "# Create a 3D point at position (1, 0, 0), with a visible size\n",
    "obj = k3d.points(np.array([[1, 0, 0]]), point_size=0.5)\n",
    "\n",
    "# Apply the first transformation matrix to the point (initial state)\n",
    "obj.model_matrix = model_matrices[0]\n",
    "\n",
    "# Create a new K3D plot and add the point object to it\n",
    "plot = k3d.plot()\n",
    "plot += obj\n",
    "\n",
    "# Display the plot in the Jupyter notebook\n",
    "plot.display()\n",
    "\n",
    "import time  # Import time module to control animation speed\n",
    "\n",
    "# Animate the point by applying each transformation matrix in sequence\n",
    "for matrix in model_matrices:\n",
    "    obj.model_matrix = matrix  # Update the transformation of the object\n",
    "    time.sleep(0.05)           # Wait 50 milliseconds between frames to simulate motion"
   ]
  },
  {
   "cell_type": "markdown",
   "id": "6ef08d1c-ea24-4c78-88af-bc18af93a176",
   "metadata": {},
   "source": [
    "### Example 4. Combine Multiple Objects with Different Transformations\n",
    "\n",
    "This example demonstrates how to display multiple 3D objects within the same scene, each with a different transformation applied. A red point is placed at a fixed position, while a green point is defined at the same initial location but transformed using a rotation matrix. Specifically, a 90-degree rotation around the Z-axis is applied to the green point by setting its `model_matrix`, which results in its position being visually rotated relative to the red point. This allows for a clear comparison between the original and transformed object. Combining multiple transformed objects in a shared coordinate system is essential in 3D graphics for tasks such as object manipulation, hierarchical modeling, and illustrating the effects of spatial transformations.\n"
   ]
  },
  {
   "cell_type": "code",
   "execution_count": 14,
   "id": "2c9e4a59-b5ed-4375-9d06-662ecc8da486",
   "metadata": {},
   "outputs": [
    {
     "data": {
      "application/vnd.jupyter.widget-view+json": {
       "model_id": "8b4f7d89320440b8a364a4f5eeae65da",
       "version_major": 2,
       "version_minor": 0
      },
      "text/plain": [
       "Output()"
      ]
     },
     "metadata": {},
     "output_type": "display_data"
    }
   ],
   "source": [
    "plot = k3d.plot()\n",
    "\n",
    "# Add a red point at position (1, 0, 0) – this is the original untransformed point\n",
    "plot += k3d.points(np.array([[1, 0, 0]]), point_size=0.2, color=0xff0000)\n",
    "\n",
    "# Define a rotation angle of 90 degrees (π/2 radians) around the Z-axis\n",
    "angle = math.pi / 2\n",
    "# Create a 4x4 transformation matrix for rotation around the Z-axis\n",
    "# This matrix will rotate points counter-clockwise in the XY plane\n",
    "model_matrix = np.array([\n",
    "    [math.cos(angle), -math.sin(angle), 0, 0],\n",
    "    [math.sin(angle),  math.cos(angle), 0, 0],\n",
    "    [0, 0, 1, 0],\n",
    "    [0, 0, 0, 1]\n",
    "], dtype=np.float32)\n",
    "\n",
    "# Create a green point at the same initial position (1, 0, 0)\n",
    "rotated_point = k3d.points(np.array([[1, 0, 0]]), point_size=0.2, color=0x00ff00)\n",
    "# Apply the rotation matrix to the green point\n",
    "# This rotates it to the new position (0, 1, 0), a 90° rotation around Z\n",
    "rotated_point.model_matrix = model_matrix\n",
    "# Add the rotated point to the plot\n",
    "plot += rotated_point\n",
    "# Display the interactive 3D scene\n",
    "plot.display()"
   ]
  },
  {
   "cell_type": "markdown",
   "id": "4db6e415-e96f-4206-8d8c-9d225e66b2fe",
   "metadata": {},
   "source": [
    "### Task 1. 3D Scene Composition with Camera and Axes\n",
    "Build a simple 3D scene that includes:\n",
    "- Axes helper\n",
    "- A few geometric shapes placed in different positions\n",
    "- A camera that you manipulate to explore the scene\n",
    "- Apply a simple animation to one object using a transformation matrix (e.g. rotating or translating)."
   ]
  },
  {
   "cell_type": "code",
   "execution_count": 31,
   "id": "74e9edc6-f624-4637-9bf6-99cc0da6b330",
   "metadata": {},
   "outputs": [
    {
     "data": {
      "application/vnd.jupyter.widget-view+json": {
       "model_id": "356702c2eed241b1b87fe9f05b49bc10",
       "version_major": 2,
       "version_minor": 0
      },
      "text/plain": [
       "Output()"
      ]
     },
     "metadata": {},
     "output_type": "display_data"
    }
   ],
   "source": [
    "## Write your code here: \n",
    "## Axes helper \n",
    "plot = k3d.plot(axes=['\\\\alpha', '\\\\beta', '\\\\gamma'])\n",
    "\n",
    "plot.axes_helper = 1\n",
    "\n",
    "## Cube\n",
    "s = 0.5\n",
    "cx, cy, cz = 1.0, 2.0, 3.0\n",
    "vertices = np.array([\n",
    "    [cx - s, cy - s, cz - s],\n",
    "    [cx + s, cy - s, cz - s],\n",
    "    [cx + s, cy + s, cz - s],\n",
    "    [cx - s, cy + s, cz - s],\n",
    "    [cx - s, cy - s, cz + s],\n",
    "    [cx + s, cy - s, cz + s],\n",
    "    [cx + s, cy + s, cz + s],\n",
    "    [cx - s, cy + s, cz + s]\n",
    "])\n",
    "\n",
    "edges = [\n",
    "    [0,1], [1,2], [2,3], [3,0],\n",
    "    [4,5], [5,6], [6,7], [7,4],\n",
    "    [0,4], [1,5], [2,6], [3,7]\n",
    "]\n",
    "\n",
    "for edge in edges:\n",
    "    line = k3d.line(vertices[edge], width=0.01, color=0x00ffff)\n",
    "    plot += line\n",
    "\n",
    "#Pyramid\n",
    "base_center = np.array([0.0, 0.0, 0.0])\n",
    "base_size = 1.0\n",
    "height = 1.2\n",
    "\n",
    "half = base_size / 2\n",
    "base_vertices = np.array([\n",
    "    [base_center[0] - half, base_center[1] - half, base_center[2]],\n",
    "    [base_center[0] + half, base_center[1] - half, base_center[2]],\n",
    "    [base_center[0] + half, base_center[1] + half, base_center[2]],\n",
    "    [base_center[0] - half, base_center[1] + half, base_center[2]],\n",
    "])\n",
    "apex = np.array([[base_center[0], base_center[1], base_center[2] + height]])\n",
    "vertices = np.vstack([base_vertices, apex])\n",
    "\n",
    "edges = [\n",
    "    [0,1], [1,2], [2,3], [3,0],\n",
    "    [0,4], [1,4], [2,4], [3,4]\n",
    "]\n",
    "\n",
    "pyramid_lines = []\n",
    "for edge in edges:\n",
    "    line = k3d.line(vertices[edge], width=0.01, color=0xffa500)\n",
    "    plot += line\n",
    "    pyramid_lines.append(line)\n",
    "\n",
    "times = np.linspace(0, 1, 60)\n",
    "model_matrices = []\n",
    "\n",
    "for t in times:\n",
    "    angle = 2 * math.pi * t\n",
    "    matrix = np.array([\n",
    "        [math.cos(angle), -math.sin(angle), 0.0, 0.0],\n",
    "        [math.sin(angle), math.cos(angle), 0.0, 0.0],\n",
    "        [0.0, 0.0, 1.0, 0.0],\n",
    "        [0.0, 0.0, 0.0, 1.0]\n",
    "    ])\n",
    "    model_matrices.append(matrix)\n",
    "\n",
    "for line in pyramid_lines:\n",
    "    line.model_matrix = model_matrices[0]\n",
    "\n",
    "plot.display()\n",
    "\n",
    "# Animation loop\n",
    "for matrix in model_matrices:\n",
    "    for line in pyramid_lines:\n",
    "        line.model_matrix = matrix\n",
    "    time.sleep(0.05)"
   ]
  },
  {
   "cell_type": "markdown",
   "id": "c65c73b2-18fb-4f5c-96cf-fd653ae1bbbf",
   "metadata": {},
   "source": [
    "## Part 2: Visualizing a Simple Point Cloud\n",
    "\n",
    "Point clouds are one of the most fundamental data structures in 3D graphics, used to represent collections of points in space without explicit connectivity between them. In this example, a point cloud is created by generating 1,000 random 3D coordinates within a cube centered at the origin. These coordinates are passed to the `k3d.points` function, which visualizes them as small, uniformly sized red dots in the 3D space. By displaying this point cloud in an interactive K3D plot, users can rotate, zoom, and pan the view to gain an intuitive understanding of the spatial distribution of points. This kind of visualization is essential in areas such as 3D scanning, LiDAR data analysis, and early stages of 3D reconstruction pipelines.\n"
   ]
  },
  {
   "cell_type": "code",
   "execution_count": 16,
   "id": "971ccc0c-4415-4d15-89b9-b61361c035cc",
   "metadata": {},
   "outputs": [
    {
     "data": {
      "application/vnd.jupyter.widget-view+json": {
       "model_id": "502aa8d92e1e44fdab6f58b3d9b902b4",
       "version_major": 2,
       "version_minor": 0
      },
      "text/plain": [
       "Output()"
      ]
     },
     "metadata": {},
     "output_type": "display_data"
    }
   ],
   "source": [
    "# Generate random 3D points in a cube around origin\n",
    "positions = np.random.uniform(-1, 1, (1000, 3))\n",
    "\n",
    "# Create a point cloud plot\n",
    "plot = k3d.plot()\n",
    "plot += k3d.points(positions.astype(np.float32), point_size=0.1, color=0xff0000)\n",
    "plot.display()"
   ]
  },
  {
   "cell_type": "markdown",
   "id": "da94332e-8d27-4f76-8112-6b3fe48876d6",
   "metadata": {},
   "source": [
    "## Example 5. Colored Point Cloud Using Scalar Field\n",
    "\n",
    "In this example, a structured point cloud is generated to form the surface of a sphere using spherical coordinates. Each point is then assigned a color based on its Z-coordinate (height), effectively visualizing a scalar field on the surface of the sphere. The scalar values are normalized and mapped to RGB color values using a simple gradient. This technique is useful in scientific visualization where scalar fields—such as temperature, elevation, or pressure—are represented through color. By encoding scalar information directly into the point cloud, users can intuitively understand patterns and variations across the dataset through interactive 3D exploration.\n"
   ]
  },
  {
   "cell_type": "code",
   "execution_count": 17,
   "id": "8a470d82-75d9-4a75-8038-5cb97a26ba8f",
   "metadata": {},
   "outputs": [
    {
     "data": {
      "application/vnd.jupyter.widget-view+json": {
       "model_id": "954dc57420254418be1a1ad1c3e4a11a",
       "version_major": 2,
       "version_minor": 0
      },
      "text/plain": [
       "Output()"
      ]
     },
     "metadata": {},
     "output_type": "display_data"
    }
   ],
   "source": [
    "# Generate structured points on a sphere\n",
    "phi = np.linspace(0, np.pi, 40)\n",
    "theta = np.linspace(0, 2 * np.pi, 80)\n",
    "phi, theta = np.meshgrid(phi, theta)\n",
    "\n",
    "x = np.sin(phi) * np.cos(theta)\n",
    "y = np.sin(phi) * np.sin(theta)\n",
    "z = np.cos(phi)\n",
    "\n",
    "positions = np.stack([x.ravel(), y.ravel(), z.ravel()], axis=1)\n",
    "\n",
    "# Use Z values to color the points (height-based)\n",
    "colors = ((z.ravel() + 1) / 2 * 0xFFFFFF).astype(np.uint32)\n",
    "\n",
    "plot = k3d.plot()\n",
    "plot += k3d.points(positions.astype(np.float32), colors=colors, point_size=0.05)\n",
    "plot.display()\n"
   ]
  },
  {
   "cell_type": "markdown",
   "id": "44c603e7-35fc-49e1-8776-ed0cfd08824a",
   "metadata": {},
   "source": [
    "## Example 6. Interactive Voxel Grid – Binary Cube\n",
    "\n",
    "This example demonstrates how to create a simple 3D voxel grid using K3D. A voxel grid is a 3D equivalent of a 2D pixel grid, where each cell (voxel) represents a value in a volumetric space. Here, a 5×5×5 grid of zeros is defined using a NumPy array, with a single voxel at the center set to 1. This active voxel is visualized using the `k3d.voxels` function, which renders a cube at the corresponding position within the grid. This type of binary voxel visualization is useful for representing discrete 3D structures, such as occupancy maps in robotics, binary segmentation masks in medical imaging, or early volumetric modeling in computer graphics.\n"
   ]
  },
  {
   "cell_type": "code",
   "execution_count": 18,
   "id": "9e82ce87-5539-4d7d-8fe0-cee01f948471",
   "metadata": {},
   "outputs": [
    {
     "data": {
      "application/vnd.jupyter.widget-view+json": {
       "model_id": "2b50cd38edff4bb7b91ce26aab39aea9",
       "version_major": 2,
       "version_minor": 0
      },
      "text/plain": [
       "Output()"
      ]
     },
     "metadata": {},
     "output_type": "display_data"
    }
   ],
   "source": [
    "# Create a 3D grid (5x5x5) with one filled cube in the middle\n",
    "voxels = np.zeros((5, 5, 5), dtype=np.uint8)\n",
    "voxels[2, 2, 2] = 1\n",
    "\n",
    "plot = k3d.plot()\n",
    "plot += k3d.voxels(voxels, bounds=[0, 5, 0, 5, 0, 5])\n",
    "plot.display()\n"
   ]
  },
  {
   "cell_type": "markdown",
   "id": "29f00380-03c9-4c58-86a4-4d66fce3de8a",
   "metadata": {},
   "source": [
    "## Example 7. Thresholding a Volume to Voxels\n",
    "\n",
    "This example illustrates how to generate a 3D volumetric dataset and convert it into a voxel representation using thresholding. A synthetic 3D Gaussian blob is created by evaluating the Gaussian function over a 3D grid of points centered in the volume. The resulting scalar field represents intensity values throughout the space. To visualize the structure, a threshold is applied to convert the continuous values into a binary volume—voxels with values above the threshold are set to 1, and others to 0. This binary volume is then rendered using `k3d.voxels`, displaying the 3D shape formed by the thresholded region. This approach is commonly used in medical imaging, CT/MRI segmentation, and scientific simulations to extract meaningful structures from scalar volumetric data.\n"
   ]
  },
  {
   "cell_type": "code",
   "execution_count": 19,
   "id": "8f03be86-3129-406d-a3aa-aeeccda7529a",
   "metadata": {},
   "outputs": [
    {
     "data": {
      "application/vnd.jupyter.widget-view+json": {
       "model_id": "43c3f05d1be1485889ce6a6e3d7a899e",
       "version_major": 2,
       "version_minor": 0
      },
      "text/plain": [
       "Output()"
      ]
     },
     "metadata": {},
     "output_type": "display_data"
    }
   ],
   "source": [
    "# Create a 3D Gaussian blob\n",
    "x, y, z = np.indices((20, 20, 20))\n",
    "center = np.array([10, 10, 10])\n",
    "sigma = 5\n",
    "blob = np.exp(-((x - center[0])**2 + (y - center[1])**2 + (z - center[2])**2) / (2 * sigma**2))\n",
    "\n",
    "# Threshold to binary volume\n",
    "voxels = (blob > 0.1).astype(np.uint8)\n",
    "\n",
    "plot = k3d.plot()\n",
    "plot += k3d.voxels(voxels, bounds=[0, 20, 0, 20, 0, 20])\n",
    "plot.display()\n"
   ]
  },
  {
   "cell_type": "markdown",
   "id": "b41613cd-3318-4497-92fe-a352cdf7de50",
   "metadata": {},
   "source": [
    "## Example 8. Animate Point Cloud Change Over Time\n",
    "\n",
    "This example showcases how to animate a 3D point cloud by dynamically updating its positions frame by frame. An initial set of random points is generated in 3D space and visualized using `k3d.points`. In a loop, small random displacements are added to each point's position to simulate motion, and the `positions` attribute of the point cloud object is updated accordingly. This creates a simple but effective animation, where the points appear to drift or jitter over time. Animating point clouds is useful for visualizing temporal phenomena, such as particle simulations, fluid motion, dynamic systems, or evolving datasets in scientific and engineering applications.\n"
   ]
  },
  {
   "cell_type": "code",
   "execution_count": 40,
   "id": "5ad035f5-8cd6-43cf-b2dc-17511770a234",
   "metadata": {},
   "outputs": [
    {
     "data": {
      "application/vnd.jupyter.widget-view+json": {
       "model_id": "8a507a702ed04d189505e22031de5377",
       "version_major": 2,
       "version_minor": 0
      },
      "text/plain": [
       "Output()"
      ]
     },
     "metadata": {},
     "output_type": "display_data"
    }
   ],
   "source": [
    "import time\n",
    "\n",
    "# Initial random positions\n",
    "positions = np.random.uniform(-1, 1, (200, 3)).astype(np.float32)\n",
    "plot = k3d.plot()\n",
    "points = k3d.points(positions, point_size=0.1, color=0x00ff00)\n",
    "plot += points\n",
    "plot.display()\n",
    "\n",
    "# Animate a change in positions\n",
    "for _ in range(50):\n",
    "    positions += np.random.normal(scale=0.01, size=positions.shape).astype(np.float32)\n",
    "    points.positions = positions\n",
    "    time.sleep(0.05)\n"
   ]
  },
  {
   "cell_type": "markdown",
   "id": "4290e64d-9252-407d-86db-f3386b643a14",
   "metadata": {},
   "source": [
    "## Example 9. Point Cloud Compression via Grid Downsampling\n",
    "\n",
    "In this example, a large and dense point cloud is simplified using a clustering-based downsampling technique. A set of 10,000 randomly distributed points is generated, representing a complex or high-resolution dataset. To reduce its size while preserving its overall structure, KMeans clustering is applied to group the points into a smaller number of representative clusters. The cluster centers are then visualized as a new, compressed point cloud using `k3d.points`. This method significantly reduces the number of points, enabling faster rendering and easier analysis, while maintaining the geometric characteristics of the original data. Point cloud compression is essential in applications like real-time rendering, mobile 3D visualization, and preprocessing for machine learning models.\n"
   ]
  },
  {
   "cell_type": "code",
   "execution_count": 41,
   "id": "e4c7abcb-aa5f-4e87-814c-b72c786b9d17",
   "metadata": {},
   "outputs": [
    {
     "data": {
      "application/vnd.jupyter.widget-view+json": {
       "model_id": "e090d9a175694a0e9c972de4c97a7d61",
       "version_major": 2,
       "version_minor": 0
      },
      "text/plain": [
       "Output()"
      ]
     },
     "metadata": {},
     "output_type": "display_data"
    }
   ],
   "source": [
    "from sklearn.cluster import KMeans  # Import the KMeans clustering algorithm from scikit-learn\n",
    "\n",
    "# Generate a dense 3D point cloud of 10,000 points\n",
    "# Each point has random coordinates in the range [-1, 1] for x, y, and z\n",
    "positions = np.random.uniform(-1, 1, (10000, 3)).astype(np.float32)\n",
    "\n",
    "# Apply KMeans clustering to compress the dataset\n",
    "# Group the 10,000 points into 300 clusters\n",
    "kmeans = KMeans(n_clusters=300)\n",
    "\n",
    "# Fit the KMeans model to the original point cloud\n",
    "kmeans.fit(positions)\n",
    "\n",
    "# Get the cluster centers — these represent the \"compressed\" version of the data\n",
    "compressed = kmeans.cluster_centers_\n",
    "\n",
    "# Create a K3D plot to visualize the compressed point cloud\n",
    "plot = k3d.plot()\n",
    "\n",
    "# Add the cluster centers to the plot as yellow-orange points\n",
    "plot += k3d.points(compressed.astype(np.float32), point_size=0.15, color=0xffaa00)\n",
    "\n",
    "# Display the interactive 3D scene\n",
    "plot.display()"
   ]
  },
  {
   "cell_type": "markdown",
   "id": "09bb7b20-a1c1-4709-b8dc-379316212628",
   "metadata": {},
   "source": [
    "## Task 2: Build a Rotating Object Group (Hierarchical Transformation)\n",
    "\n",
    "Create a scene with at least three points or geometric shapes that rotate together around a shared axis, simulating a hierarchical transformation (like satellites orbiting a planet).\n",
    "Steps:\n",
    "- Place one central object (e.g. a large white sphere or point).\n",
    "- Place 2–3 smaller objects at fixed offsets from the central object.\n",
    "- Apply a rotation matrix over time to all satellite objects around the central one.\n",
    "- Use different rotation speeds or radii.\n",
    "Expected Outcome: A dynamic orbital system where all satellites rotate around the central object while maintaining their relative spacing."
   ]
  },
  {
   "cell_type": "code",
   "execution_count": 39,
   "id": "e71f466c",
   "metadata": {},
   "outputs": [
    {
     "data": {
      "application/vnd.jupyter.widget-view+json": {
       "model_id": "14d493f0efb54828980cc640afbe7836",
       "version_major": 2,
       "version_minor": 0
      },
      "text/plain": [
       "Output()"
      ]
     },
     "metadata": {},
     "output_type": "display_data"
    }
   ],
   "source": [
    "import numpy as np\n",
    "import k3d\n",
    "import math\n",
    "import time\n",
    "\n",
    "# Create plot\n",
    "plot = k3d.plot()\n",
    "\n",
    "# Central object (large white sphere)\n",
    "center = k3d.points([[0, 0, 0]], point_size=0.5, color=0xFFFFFF)\n",
    "plot += center\n",
    "\n",
    "# Satellites: (distance from center, speed, size, color)\n",
    "satellites = [\n",
    "    (1.0, 1.0, 0.2, 0xFF0000),  # Fast red satellite\n",
    "    (1.5, 0.6, 0.15, 0x0000FF)  # Slow blue satellite\n",
    "]\n",
    "\n",
    "# Create satellite objects at initial positions\n",
    "sat_objects = []\n",
    "for distance, speed, size, color in satellites:\n",
    "    sat = k3d.points([[distance, 0, 0]], \n",
    "                    point_size=size, \n",
    "                    color=color)\n",
    "    plot += sat\n",
    "    sat_objects.append((sat, distance, speed))\n",
    "\n",
    "# Animation parameters\n",
    "steps = 60\n",
    "times = np.linspace(0, 1, steps)\n",
    "\n",
    "# Precompute matrices for both satellites\n",
    "matrices = {sat: [] for sat, _, _ in sat_objects}\n",
    "for t in times:\n",
    "    for sat, distance, speed in sat_objects:\n",
    "        angle = 2 * math.pi * t * speed\n",
    "        matrix = np.array([\n",
    "            [math.cos(angle), -math.sin(angle), 0, 0],\n",
    "            [math.sin(angle), math.cos(angle), 0, 0],\n",
    "            [0, 0, 1, 0],\n",
    "            [0, 0, 0, 1]\n",
    "        ])\n",
    "        matrices[sat].append(matrix)\n",
    "\n",
    "plot.display()\n",
    "\n",
    "# Animation loop\n",
    "for i in range(steps):\n",
    "    for sat, _, _ in sat_objects:\n",
    "        sat.model_matrix = matrices[sat][i]\n",
    "    time.sleep(0.05)\n"
   ]
  },
  {
   "cell_type": "markdown",
   "id": "205d998f-7dab-46dc-bb25-460a9b681eb2",
   "metadata": {},
   "source": [
    "## Task 3: Dynamic Point Cloud with Real-Time Clustering Visualization\n",
    "\n",
    "Visualize a dynamic point cloud that updates over time and display the real-time cluster centers using KMeans.\n",
    "Steps: \n",
    "- Start with ~500 randomly distributed 3D points.\n",
    "- At each animation step:\n",
    "- Slightly move all points (simulate motion).\n",
    "- Re-run KMeans clustering (e.g. n_clusters=10).\n",
    "- Update both the moving point cloud and the cluster centers (as larger points or differently colored).\n",
    "- Color each point by its cluster label.\n",
    "\n",
    "Expected Outcome: A \"living\" point cloud that moves and updates, with cluster centers tracking the centroid of nearby points."
   ]
  },
  {
   "cell_type": "code",
   "execution_count": 15,
   "id": "44442c3c",
   "metadata": {},
   "outputs": [
    {
     "name": "stderr",
     "output_type": "stream",
     "text": [
      "C:\\Users\\Svale\\AppData\\Local\\Temp\\ipykernel_95408\\1055865843.py:12: MatplotlibDeprecationWarning: The get_cmap function was deprecated in Matplotlib 3.7 and will be removed in 3.11. Use ``matplotlib.colormaps[name]`` or ``matplotlib.colormaps.get_cmap()`` or ``pyplot.get_cmap()`` instead.\n",
      "  cmap = get_cmap('viridis')\n",
      "C:\\Anaconda\\Lib\\site-packages\\traittypes\\traittypes.py:97: UserWarning: Given trait value dtype \"float64\" does not match required type \"float32\". A coerced copy has been created.\n",
      "  warnings.warn(\n"
     ]
    },
    {
     "data": {
      "application/vnd.jupyter.widget-view+json": {
       "model_id": "e4d30cbc0a5c437789276cdb6b464ec3",
       "version_major": 2,
       "version_minor": 0
      },
      "text/plain": [
       "Output()"
      ]
     },
     "metadata": {},
     "output_type": "display_data"
    },
    {
     "name": "stderr",
     "output_type": "stream",
     "text": [
      "C:\\Anaconda\\Lib\\site-packages\\sklearn\\cluster\\_kmeans.py:1429: UserWarning: KMeans is known to have a memory leak on Windows with MKL, when there are less chunks than available threads. You can avoid it by setting the environment variable OMP_NUM_THREADS=2.\n",
      "  warnings.warn(\n",
      "C:\\Anaconda\\Lib\\site-packages\\sklearn\\cluster\\_kmeans.py:1429: UserWarning: KMeans is known to have a memory leak on Windows with MKL, when there are less chunks than available threads. You can avoid it by setting the environment variable OMP_NUM_THREADS=2.\n",
      "  warnings.warn(\n",
      "C:\\Anaconda\\Lib\\site-packages\\sklearn\\cluster\\_kmeans.py:1429: UserWarning: KMeans is known to have a memory leak on Windows with MKL, when there are less chunks than available threads. You can avoid it by setting the environment variable OMP_NUM_THREADS=2.\n",
      "  warnings.warn(\n",
      "C:\\Anaconda\\Lib\\site-packages\\sklearn\\cluster\\_kmeans.py:1429: UserWarning: KMeans is known to have a memory leak on Windows with MKL, when there are less chunks than available threads. You can avoid it by setting the environment variable OMP_NUM_THREADS=2.\n",
      "  warnings.warn(\n",
      "C:\\Anaconda\\Lib\\site-packages\\sklearn\\cluster\\_kmeans.py:1429: UserWarning: KMeans is known to have a memory leak on Windows with MKL, when there are less chunks than available threads. You can avoid it by setting the environment variable OMP_NUM_THREADS=2.\n",
      "  warnings.warn(\n",
      "C:\\Anaconda\\Lib\\site-packages\\sklearn\\cluster\\_kmeans.py:1429: UserWarning: KMeans is known to have a memory leak on Windows with MKL, when there are less chunks than available threads. You can avoid it by setting the environment variable OMP_NUM_THREADS=2.\n",
      "  warnings.warn(\n",
      "C:\\Anaconda\\Lib\\site-packages\\sklearn\\cluster\\_kmeans.py:1429: UserWarning: KMeans is known to have a memory leak on Windows with MKL, when there are less chunks than available threads. You can avoid it by setting the environment variable OMP_NUM_THREADS=2.\n",
      "  warnings.warn(\n",
      "C:\\Anaconda\\Lib\\site-packages\\sklearn\\cluster\\_kmeans.py:1429: UserWarning: KMeans is known to have a memory leak on Windows with MKL, when there are less chunks than available threads. You can avoid it by setting the environment variable OMP_NUM_THREADS=2.\n",
      "  warnings.warn(\n",
      "C:\\Anaconda\\Lib\\site-packages\\sklearn\\cluster\\_kmeans.py:1429: UserWarning: KMeans is known to have a memory leak on Windows with MKL, when there are less chunks than available threads. You can avoid it by setting the environment variable OMP_NUM_THREADS=2.\n",
      "  warnings.warn(\n",
      "C:\\Anaconda\\Lib\\site-packages\\sklearn\\cluster\\_kmeans.py:1429: UserWarning: KMeans is known to have a memory leak on Windows with MKL, when there are less chunks than available threads. You can avoid it by setting the environment variable OMP_NUM_THREADS=2.\n",
      "  warnings.warn(\n",
      "C:\\Anaconda\\Lib\\site-packages\\sklearn\\cluster\\_kmeans.py:1429: UserWarning: KMeans is known to have a memory leak on Windows with MKL, when there are less chunks than available threads. You can avoid it by setting the environment variable OMP_NUM_THREADS=2.\n",
      "  warnings.warn(\n",
      "C:\\Anaconda\\Lib\\site-packages\\sklearn\\cluster\\_kmeans.py:1429: UserWarning: KMeans is known to have a memory leak on Windows with MKL, when there are less chunks than available threads. You can avoid it by setting the environment variable OMP_NUM_THREADS=2.\n",
      "  warnings.warn(\n",
      "C:\\Anaconda\\Lib\\site-packages\\sklearn\\cluster\\_kmeans.py:1429: UserWarning: KMeans is known to have a memory leak on Windows with MKL, when there are less chunks than available threads. You can avoid it by setting the environment variable OMP_NUM_THREADS=2.\n",
      "  warnings.warn(\n",
      "C:\\Anaconda\\Lib\\site-packages\\sklearn\\cluster\\_kmeans.py:1429: UserWarning: KMeans is known to have a memory leak on Windows with MKL, when there are less chunks than available threads. You can avoid it by setting the environment variable OMP_NUM_THREADS=2.\n",
      "  warnings.warn(\n",
      "C:\\Anaconda\\Lib\\site-packages\\sklearn\\cluster\\_kmeans.py:1429: UserWarning: KMeans is known to have a memory leak on Windows with MKL, when there are less chunks than available threads. You can avoid it by setting the environment variable OMP_NUM_THREADS=2.\n",
      "  warnings.warn(\n",
      "C:\\Anaconda\\Lib\\site-packages\\sklearn\\cluster\\_kmeans.py:1429: UserWarning: KMeans is known to have a memory leak on Windows with MKL, when there are less chunks than available threads. You can avoid it by setting the environment variable OMP_NUM_THREADS=2.\n",
      "  warnings.warn(\n",
      "C:\\Anaconda\\Lib\\site-packages\\sklearn\\cluster\\_kmeans.py:1429: UserWarning: KMeans is known to have a memory leak on Windows with MKL, when there are less chunks than available threads. You can avoid it by setting the environment variable OMP_NUM_THREADS=2.\n",
      "  warnings.warn(\n",
      "C:\\Anaconda\\Lib\\site-packages\\sklearn\\cluster\\_kmeans.py:1429: UserWarning: KMeans is known to have a memory leak on Windows with MKL, when there are less chunks than available threads. You can avoid it by setting the environment variable OMP_NUM_THREADS=2.\n",
      "  warnings.warn(\n",
      "C:\\Anaconda\\Lib\\site-packages\\sklearn\\cluster\\_kmeans.py:1429: UserWarning: KMeans is known to have a memory leak on Windows with MKL, when there are less chunks than available threads. You can avoid it by setting the environment variable OMP_NUM_THREADS=2.\n",
      "  warnings.warn(\n",
      "C:\\Anaconda\\Lib\\site-packages\\sklearn\\cluster\\_kmeans.py:1429: UserWarning: KMeans is known to have a memory leak on Windows with MKL, when there are less chunks than available threads. You can avoid it by setting the environment variable OMP_NUM_THREADS=2.\n",
      "  warnings.warn(\n",
      "C:\\Anaconda\\Lib\\site-packages\\sklearn\\cluster\\_kmeans.py:1429: UserWarning: KMeans is known to have a memory leak on Windows with MKL, when there are less chunks than available threads. You can avoid it by setting the environment variable OMP_NUM_THREADS=2.\n",
      "  warnings.warn(\n",
      "C:\\Anaconda\\Lib\\site-packages\\sklearn\\cluster\\_kmeans.py:1429: UserWarning: KMeans is known to have a memory leak on Windows with MKL, when there are less chunks than available threads. You can avoid it by setting the environment variable OMP_NUM_THREADS=2.\n",
      "  warnings.warn(\n",
      "C:\\Anaconda\\Lib\\site-packages\\sklearn\\cluster\\_kmeans.py:1429: UserWarning: KMeans is known to have a memory leak on Windows with MKL, when there are less chunks than available threads. You can avoid it by setting the environment variable OMP_NUM_THREADS=2.\n",
      "  warnings.warn(\n",
      "C:\\Anaconda\\Lib\\site-packages\\sklearn\\cluster\\_kmeans.py:1429: UserWarning: KMeans is known to have a memory leak on Windows with MKL, when there are less chunks than available threads. You can avoid it by setting the environment variable OMP_NUM_THREADS=2.\n",
      "  warnings.warn(\n",
      "C:\\Anaconda\\Lib\\site-packages\\sklearn\\cluster\\_kmeans.py:1429: UserWarning: KMeans is known to have a memory leak on Windows with MKL, when there are less chunks than available threads. You can avoid it by setting the environment variable OMP_NUM_THREADS=2.\n",
      "  warnings.warn(\n",
      "C:\\Anaconda\\Lib\\site-packages\\sklearn\\cluster\\_kmeans.py:1429: UserWarning: KMeans is known to have a memory leak on Windows with MKL, when there are less chunks than available threads. You can avoid it by setting the environment variable OMP_NUM_THREADS=2.\n",
      "  warnings.warn(\n",
      "C:\\Anaconda\\Lib\\site-packages\\sklearn\\cluster\\_kmeans.py:1429: UserWarning: KMeans is known to have a memory leak on Windows with MKL, when there are less chunks than available threads. You can avoid it by setting the environment variable OMP_NUM_THREADS=2.\n",
      "  warnings.warn(\n",
      "C:\\Anaconda\\Lib\\site-packages\\sklearn\\cluster\\_kmeans.py:1429: UserWarning: KMeans is known to have a memory leak on Windows with MKL, when there are less chunks than available threads. You can avoid it by setting the environment variable OMP_NUM_THREADS=2.\n",
      "  warnings.warn(\n",
      "C:\\Anaconda\\Lib\\site-packages\\sklearn\\cluster\\_kmeans.py:1429: UserWarning: KMeans is known to have a memory leak on Windows with MKL, when there are less chunks than available threads. You can avoid it by setting the environment variable OMP_NUM_THREADS=2.\n",
      "  warnings.warn(\n",
      "C:\\Anaconda\\Lib\\site-packages\\sklearn\\cluster\\_kmeans.py:1429: UserWarning: KMeans is known to have a memory leak on Windows with MKL, when there are less chunks than available threads. You can avoid it by setting the environment variable OMP_NUM_THREADS=2.\n",
      "  warnings.warn(\n",
      "C:\\Anaconda\\Lib\\site-packages\\sklearn\\cluster\\_kmeans.py:1429: UserWarning: KMeans is known to have a memory leak on Windows with MKL, when there are less chunks than available threads. You can avoid it by setting the environment variable OMP_NUM_THREADS=2.\n",
      "  warnings.warn(\n",
      "C:\\Anaconda\\Lib\\site-packages\\sklearn\\cluster\\_kmeans.py:1429: UserWarning: KMeans is known to have a memory leak on Windows with MKL, when there are less chunks than available threads. You can avoid it by setting the environment variable OMP_NUM_THREADS=2.\n",
      "  warnings.warn(\n",
      "C:\\Anaconda\\Lib\\site-packages\\sklearn\\cluster\\_kmeans.py:1429: UserWarning: KMeans is known to have a memory leak on Windows with MKL, when there are less chunks than available threads. You can avoid it by setting the environment variable OMP_NUM_THREADS=2.\n",
      "  warnings.warn(\n",
      "C:\\Anaconda\\Lib\\site-packages\\sklearn\\cluster\\_kmeans.py:1429: UserWarning: KMeans is known to have a memory leak on Windows with MKL, when there are less chunks than available threads. You can avoid it by setting the environment variable OMP_NUM_THREADS=2.\n",
      "  warnings.warn(\n"
     ]
    },
    {
     "name": "stderr",
     "output_type": "stream",
     "text": [
      "C:\\Anaconda\\Lib\\site-packages\\sklearn\\cluster\\_kmeans.py:1429: UserWarning: KMeans is known to have a memory leak on Windows with MKL, when there are less chunks than available threads. You can avoid it by setting the environment variable OMP_NUM_THREADS=2.\n",
      "  warnings.warn(\n",
      "C:\\Anaconda\\Lib\\site-packages\\sklearn\\cluster\\_kmeans.py:1429: UserWarning: KMeans is known to have a memory leak on Windows with MKL, when there are less chunks than available threads. You can avoid it by setting the environment variable OMP_NUM_THREADS=2.\n",
      "  warnings.warn(\n",
      "C:\\Anaconda\\Lib\\site-packages\\sklearn\\cluster\\_kmeans.py:1429: UserWarning: KMeans is known to have a memory leak on Windows with MKL, when there are less chunks than available threads. You can avoid it by setting the environment variable OMP_NUM_THREADS=2.\n",
      "  warnings.warn(\n",
      "C:\\Anaconda\\Lib\\site-packages\\sklearn\\cluster\\_kmeans.py:1429: UserWarning: KMeans is known to have a memory leak on Windows with MKL, when there are less chunks than available threads. You can avoid it by setting the environment variable OMP_NUM_THREADS=2.\n",
      "  warnings.warn(\n",
      "C:\\Anaconda\\Lib\\site-packages\\sklearn\\cluster\\_kmeans.py:1429: UserWarning: KMeans is known to have a memory leak on Windows with MKL, when there are less chunks than available threads. You can avoid it by setting the environment variable OMP_NUM_THREADS=2.\n",
      "  warnings.warn(\n",
      "C:\\Anaconda\\Lib\\site-packages\\sklearn\\cluster\\_kmeans.py:1429: UserWarning: KMeans is known to have a memory leak on Windows with MKL, when there are less chunks than available threads. You can avoid it by setting the environment variable OMP_NUM_THREADS=2.\n",
      "  warnings.warn(\n",
      "C:\\Anaconda\\Lib\\site-packages\\sklearn\\cluster\\_kmeans.py:1429: UserWarning: KMeans is known to have a memory leak on Windows with MKL, when there are less chunks than available threads. You can avoid it by setting the environment variable OMP_NUM_THREADS=2.\n",
      "  warnings.warn(\n",
      "C:\\Anaconda\\Lib\\site-packages\\sklearn\\cluster\\_kmeans.py:1429: UserWarning: KMeans is known to have a memory leak on Windows with MKL, when there are less chunks than available threads. You can avoid it by setting the environment variable OMP_NUM_THREADS=2.\n",
      "  warnings.warn(\n",
      "C:\\Anaconda\\Lib\\site-packages\\sklearn\\cluster\\_kmeans.py:1429: UserWarning: KMeans is known to have a memory leak on Windows with MKL, when there are less chunks than available threads. You can avoid it by setting the environment variable OMP_NUM_THREADS=2.\n",
      "  warnings.warn(\n",
      "C:\\Anaconda\\Lib\\site-packages\\sklearn\\cluster\\_kmeans.py:1429: UserWarning: KMeans is known to have a memory leak on Windows with MKL, when there are less chunks than available threads. You can avoid it by setting the environment variable OMP_NUM_THREADS=2.\n",
      "  warnings.warn(\n",
      "C:\\Anaconda\\Lib\\site-packages\\sklearn\\cluster\\_kmeans.py:1429: UserWarning: KMeans is known to have a memory leak on Windows with MKL, when there are less chunks than available threads. You can avoid it by setting the environment variable OMP_NUM_THREADS=2.\n",
      "  warnings.warn(\n",
      "C:\\Anaconda\\Lib\\site-packages\\sklearn\\cluster\\_kmeans.py:1429: UserWarning: KMeans is known to have a memory leak on Windows with MKL, when there are less chunks than available threads. You can avoid it by setting the environment variable OMP_NUM_THREADS=2.\n",
      "  warnings.warn(\n",
      "C:\\Anaconda\\Lib\\site-packages\\sklearn\\cluster\\_kmeans.py:1429: UserWarning: KMeans is known to have a memory leak on Windows with MKL, when there are less chunks than available threads. You can avoid it by setting the environment variable OMP_NUM_THREADS=2.\n",
      "  warnings.warn(\n",
      "C:\\Anaconda\\Lib\\site-packages\\sklearn\\cluster\\_kmeans.py:1429: UserWarning: KMeans is known to have a memory leak on Windows with MKL, when there are less chunks than available threads. You can avoid it by setting the environment variable OMP_NUM_THREADS=2.\n",
      "  warnings.warn(\n",
      "C:\\Anaconda\\Lib\\site-packages\\sklearn\\cluster\\_kmeans.py:1429: UserWarning: KMeans is known to have a memory leak on Windows with MKL, when there are less chunks than available threads. You can avoid it by setting the environment variable OMP_NUM_THREADS=2.\n",
      "  warnings.warn(\n",
      "C:\\Anaconda\\Lib\\site-packages\\sklearn\\cluster\\_kmeans.py:1429: UserWarning: KMeans is known to have a memory leak on Windows with MKL, when there are less chunks than available threads. You can avoid it by setting the environment variable OMP_NUM_THREADS=2.\n",
      "  warnings.warn(\n",
      "C:\\Anaconda\\Lib\\site-packages\\sklearn\\cluster\\_kmeans.py:1429: UserWarning: KMeans is known to have a memory leak on Windows with MKL, when there are less chunks than available threads. You can avoid it by setting the environment variable OMP_NUM_THREADS=2.\n",
      "  warnings.warn(\n",
      "C:\\Anaconda\\Lib\\site-packages\\sklearn\\cluster\\_kmeans.py:1429: UserWarning: KMeans is known to have a memory leak on Windows with MKL, when there are less chunks than available threads. You can avoid it by setting the environment variable OMP_NUM_THREADS=2.\n",
      "  warnings.warn(\n",
      "C:\\Anaconda\\Lib\\site-packages\\sklearn\\cluster\\_kmeans.py:1429: UserWarning: KMeans is known to have a memory leak on Windows with MKL, when there are less chunks than available threads. You can avoid it by setting the environment variable OMP_NUM_THREADS=2.\n",
      "  warnings.warn(\n",
      "C:\\Anaconda\\Lib\\site-packages\\sklearn\\cluster\\_kmeans.py:1429: UserWarning: KMeans is known to have a memory leak on Windows with MKL, when there are less chunks than available threads. You can avoid it by setting the environment variable OMP_NUM_THREADS=2.\n",
      "  warnings.warn(\n",
      "C:\\Anaconda\\Lib\\site-packages\\sklearn\\cluster\\_kmeans.py:1429: UserWarning: KMeans is known to have a memory leak on Windows with MKL, when there are less chunks than available threads. You can avoid it by setting the environment variable OMP_NUM_THREADS=2.\n",
      "  warnings.warn(\n",
      "C:\\Anaconda\\Lib\\site-packages\\sklearn\\cluster\\_kmeans.py:1429: UserWarning: KMeans is known to have a memory leak on Windows with MKL, when there are less chunks than available threads. You can avoid it by setting the environment variable OMP_NUM_THREADS=2.\n",
      "  warnings.warn(\n",
      "C:\\Anaconda\\Lib\\site-packages\\sklearn\\cluster\\_kmeans.py:1429: UserWarning: KMeans is known to have a memory leak on Windows with MKL, when there are less chunks than available threads. You can avoid it by setting the environment variable OMP_NUM_THREADS=2.\n",
      "  warnings.warn(\n",
      "C:\\Anaconda\\Lib\\site-packages\\sklearn\\cluster\\_kmeans.py:1429: UserWarning: KMeans is known to have a memory leak on Windows with MKL, when there are less chunks than available threads. You can avoid it by setting the environment variable OMP_NUM_THREADS=2.\n",
      "  warnings.warn(\n",
      "C:\\Anaconda\\Lib\\site-packages\\sklearn\\cluster\\_kmeans.py:1429: UserWarning: KMeans is known to have a memory leak on Windows with MKL, when there are less chunks than available threads. You can avoid it by setting the environment variable OMP_NUM_THREADS=2.\n",
      "  warnings.warn(\n",
      "C:\\Anaconda\\Lib\\site-packages\\sklearn\\cluster\\_kmeans.py:1429: UserWarning: KMeans is known to have a memory leak on Windows with MKL, when there are less chunks than available threads. You can avoid it by setting the environment variable OMP_NUM_THREADS=2.\n",
      "  warnings.warn(\n",
      "C:\\Anaconda\\Lib\\site-packages\\sklearn\\cluster\\_kmeans.py:1429: UserWarning: KMeans is known to have a memory leak on Windows with MKL, when there are less chunks than available threads. You can avoid it by setting the environment variable OMP_NUM_THREADS=2.\n",
      "  warnings.warn(\n",
      "C:\\Anaconda\\Lib\\site-packages\\sklearn\\cluster\\_kmeans.py:1429: UserWarning: KMeans is known to have a memory leak on Windows with MKL, when there are less chunks than available threads. You can avoid it by setting the environment variable OMP_NUM_THREADS=2.\n",
      "  warnings.warn(\n",
      "C:\\Anaconda\\Lib\\site-packages\\sklearn\\cluster\\_kmeans.py:1429: UserWarning: KMeans is known to have a memory leak on Windows with MKL, when there are less chunks than available threads. You can avoid it by setting the environment variable OMP_NUM_THREADS=2.\n",
      "  warnings.warn(\n",
      "C:\\Anaconda\\Lib\\site-packages\\sklearn\\cluster\\_kmeans.py:1429: UserWarning: KMeans is known to have a memory leak on Windows with MKL, when there are less chunks than available threads. You can avoid it by setting the environment variable OMP_NUM_THREADS=2.\n",
      "  warnings.warn(\n",
      "C:\\Anaconda\\Lib\\site-packages\\sklearn\\cluster\\_kmeans.py:1429: UserWarning: KMeans is known to have a memory leak on Windows with MKL, when there are less chunks than available threads. You can avoid it by setting the environment variable OMP_NUM_THREADS=2.\n",
      "  warnings.warn(\n",
      "C:\\Anaconda\\Lib\\site-packages\\sklearn\\cluster\\_kmeans.py:1429: UserWarning: KMeans is known to have a memory leak on Windows with MKL, when there are less chunks than available threads. You can avoid it by setting the environment variable OMP_NUM_THREADS=2.\n",
      "  warnings.warn(\n",
      "C:\\Anaconda\\Lib\\site-packages\\sklearn\\cluster\\_kmeans.py:1429: UserWarning: KMeans is known to have a memory leak on Windows with MKL, when there are less chunks than available threads. You can avoid it by setting the environment variable OMP_NUM_THREADS=2.\n",
      "  warnings.warn(\n",
      "C:\\Anaconda\\Lib\\site-packages\\sklearn\\cluster\\_kmeans.py:1429: UserWarning: KMeans is known to have a memory leak on Windows with MKL, when there are less chunks than available threads. You can avoid it by setting the environment variable OMP_NUM_THREADS=2.\n",
      "  warnings.warn(\n"
     ]
    },
    {
     "name": "stderr",
     "output_type": "stream",
     "text": [
      "C:\\Anaconda\\Lib\\site-packages\\sklearn\\cluster\\_kmeans.py:1429: UserWarning: KMeans is known to have a memory leak on Windows with MKL, when there are less chunks than available threads. You can avoid it by setting the environment variable OMP_NUM_THREADS=2.\n",
      "  warnings.warn(\n",
      "C:\\Anaconda\\Lib\\site-packages\\sklearn\\cluster\\_kmeans.py:1429: UserWarning: KMeans is known to have a memory leak on Windows with MKL, when there are less chunks than available threads. You can avoid it by setting the environment variable OMP_NUM_THREADS=2.\n",
      "  warnings.warn(\n",
      "C:\\Anaconda\\Lib\\site-packages\\sklearn\\cluster\\_kmeans.py:1429: UserWarning: KMeans is known to have a memory leak on Windows with MKL, when there are less chunks than available threads. You can avoid it by setting the environment variable OMP_NUM_THREADS=2.\n",
      "  warnings.warn(\n",
      "C:\\Anaconda\\Lib\\site-packages\\sklearn\\cluster\\_kmeans.py:1429: UserWarning: KMeans is known to have a memory leak on Windows with MKL, when there are less chunks than available threads. You can avoid it by setting the environment variable OMP_NUM_THREADS=2.\n",
      "  warnings.warn(\n",
      "C:\\Anaconda\\Lib\\site-packages\\sklearn\\cluster\\_kmeans.py:1429: UserWarning: KMeans is known to have a memory leak on Windows with MKL, when there are less chunks than available threads. You can avoid it by setting the environment variable OMP_NUM_THREADS=2.\n",
      "  warnings.warn(\n",
      "C:\\Anaconda\\Lib\\site-packages\\sklearn\\cluster\\_kmeans.py:1429: UserWarning: KMeans is known to have a memory leak on Windows with MKL, when there are less chunks than available threads. You can avoid it by setting the environment variable OMP_NUM_THREADS=2.\n",
      "  warnings.warn(\n",
      "C:\\Anaconda\\Lib\\site-packages\\sklearn\\cluster\\_kmeans.py:1429: UserWarning: KMeans is known to have a memory leak on Windows with MKL, when there are less chunks than available threads. You can avoid it by setting the environment variable OMP_NUM_THREADS=2.\n",
      "  warnings.warn(\n",
      "C:\\Anaconda\\Lib\\site-packages\\sklearn\\cluster\\_kmeans.py:1429: UserWarning: KMeans is known to have a memory leak on Windows with MKL, when there are less chunks than available threads. You can avoid it by setting the environment variable OMP_NUM_THREADS=2.\n",
      "  warnings.warn(\n",
      "C:\\Anaconda\\Lib\\site-packages\\sklearn\\cluster\\_kmeans.py:1429: UserWarning: KMeans is known to have a memory leak on Windows with MKL, when there are less chunks than available threads. You can avoid it by setting the environment variable OMP_NUM_THREADS=2.\n",
      "  warnings.warn(\n",
      "C:\\Anaconda\\Lib\\site-packages\\sklearn\\cluster\\_kmeans.py:1429: UserWarning: KMeans is known to have a memory leak on Windows with MKL, when there are less chunks than available threads. You can avoid it by setting the environment variable OMP_NUM_THREADS=2.\n",
      "  warnings.warn(\n",
      "C:\\Anaconda\\Lib\\site-packages\\sklearn\\cluster\\_kmeans.py:1429: UserWarning: KMeans is known to have a memory leak on Windows with MKL, when there are less chunks than available threads. You can avoid it by setting the environment variable OMP_NUM_THREADS=2.\n",
      "  warnings.warn(\n",
      "C:\\Anaconda\\Lib\\site-packages\\sklearn\\cluster\\_kmeans.py:1429: UserWarning: KMeans is known to have a memory leak on Windows with MKL, when there are less chunks than available threads. You can avoid it by setting the environment variable OMP_NUM_THREADS=2.\n",
      "  warnings.warn(\n",
      "C:\\Anaconda\\Lib\\site-packages\\sklearn\\cluster\\_kmeans.py:1429: UserWarning: KMeans is known to have a memory leak on Windows with MKL, when there are less chunks than available threads. You can avoid it by setting the environment variable OMP_NUM_THREADS=2.\n",
      "  warnings.warn(\n",
      "C:\\Anaconda\\Lib\\site-packages\\sklearn\\cluster\\_kmeans.py:1429: UserWarning: KMeans is known to have a memory leak on Windows with MKL, when there are less chunks than available threads. You can avoid it by setting the environment variable OMP_NUM_THREADS=2.\n",
      "  warnings.warn(\n",
      "C:\\Anaconda\\Lib\\site-packages\\sklearn\\cluster\\_kmeans.py:1429: UserWarning: KMeans is known to have a memory leak on Windows with MKL, when there are less chunks than available threads. You can avoid it by setting the environment variable OMP_NUM_THREADS=2.\n",
      "  warnings.warn(\n",
      "C:\\Anaconda\\Lib\\site-packages\\sklearn\\cluster\\_kmeans.py:1429: UserWarning: KMeans is known to have a memory leak on Windows with MKL, when there are less chunks than available threads. You can avoid it by setting the environment variable OMP_NUM_THREADS=2.\n",
      "  warnings.warn(\n",
      "C:\\Anaconda\\Lib\\site-packages\\sklearn\\cluster\\_kmeans.py:1429: UserWarning: KMeans is known to have a memory leak on Windows with MKL, when there are less chunks than available threads. You can avoid it by setting the environment variable OMP_NUM_THREADS=2.\n",
      "  warnings.warn(\n",
      "C:\\Anaconda\\Lib\\site-packages\\sklearn\\cluster\\_kmeans.py:1429: UserWarning: KMeans is known to have a memory leak on Windows with MKL, when there are less chunks than available threads. You can avoid it by setting the environment variable OMP_NUM_THREADS=2.\n",
      "  warnings.warn(\n",
      "C:\\Anaconda\\Lib\\site-packages\\sklearn\\cluster\\_kmeans.py:1429: UserWarning: KMeans is known to have a memory leak on Windows with MKL, when there are less chunks than available threads. You can avoid it by setting the environment variable OMP_NUM_THREADS=2.\n",
      "  warnings.warn(\n",
      "C:\\Anaconda\\Lib\\site-packages\\sklearn\\cluster\\_kmeans.py:1429: UserWarning: KMeans is known to have a memory leak on Windows with MKL, when there are less chunks than available threads. You can avoid it by setting the environment variable OMP_NUM_THREADS=2.\n",
      "  warnings.warn(\n",
      "C:\\Anaconda\\Lib\\site-packages\\sklearn\\cluster\\_kmeans.py:1429: UserWarning: KMeans is known to have a memory leak on Windows with MKL, when there are less chunks than available threads. You can avoid it by setting the environment variable OMP_NUM_THREADS=2.\n",
      "  warnings.warn(\n",
      "C:\\Anaconda\\Lib\\site-packages\\sklearn\\cluster\\_kmeans.py:1429: UserWarning: KMeans is known to have a memory leak on Windows with MKL, when there are less chunks than available threads. You can avoid it by setting the environment variable OMP_NUM_THREADS=2.\n",
      "  warnings.warn(\n",
      "C:\\Anaconda\\Lib\\site-packages\\sklearn\\cluster\\_kmeans.py:1429: UserWarning: KMeans is known to have a memory leak on Windows with MKL, when there are less chunks than available threads. You can avoid it by setting the environment variable OMP_NUM_THREADS=2.\n",
      "  warnings.warn(\n",
      "C:\\Anaconda\\Lib\\site-packages\\sklearn\\cluster\\_kmeans.py:1429: UserWarning: KMeans is known to have a memory leak on Windows with MKL, when there are less chunks than available threads. You can avoid it by setting the environment variable OMP_NUM_THREADS=2.\n",
      "  warnings.warn(\n",
      "C:\\Anaconda\\Lib\\site-packages\\sklearn\\cluster\\_kmeans.py:1429: UserWarning: KMeans is known to have a memory leak on Windows with MKL, when there are less chunks than available threads. You can avoid it by setting the environment variable OMP_NUM_THREADS=2.\n",
      "  warnings.warn(\n",
      "C:\\Anaconda\\Lib\\site-packages\\sklearn\\cluster\\_kmeans.py:1429: UserWarning: KMeans is known to have a memory leak on Windows with MKL, when there are less chunks than available threads. You can avoid it by setting the environment variable OMP_NUM_THREADS=2.\n",
      "  warnings.warn(\n",
      "C:\\Anaconda\\Lib\\site-packages\\sklearn\\cluster\\_kmeans.py:1429: UserWarning: KMeans is known to have a memory leak on Windows with MKL, when there are less chunks than available threads. You can avoid it by setting the environment variable OMP_NUM_THREADS=2.\n",
      "  warnings.warn(\n",
      "C:\\Anaconda\\Lib\\site-packages\\sklearn\\cluster\\_kmeans.py:1429: UserWarning: KMeans is known to have a memory leak on Windows with MKL, when there are less chunks than available threads. You can avoid it by setting the environment variable OMP_NUM_THREADS=2.\n",
      "  warnings.warn(\n",
      "C:\\Anaconda\\Lib\\site-packages\\sklearn\\cluster\\_kmeans.py:1429: UserWarning: KMeans is known to have a memory leak on Windows with MKL, when there are less chunks than available threads. You can avoid it by setting the environment variable OMP_NUM_THREADS=2.\n",
      "  warnings.warn(\n",
      "C:\\Anaconda\\Lib\\site-packages\\sklearn\\cluster\\_kmeans.py:1429: UserWarning: KMeans is known to have a memory leak on Windows with MKL, when there are less chunks than available threads. You can avoid it by setting the environment variable OMP_NUM_THREADS=2.\n",
      "  warnings.warn(\n",
      "C:\\Anaconda\\Lib\\site-packages\\sklearn\\cluster\\_kmeans.py:1429: UserWarning: KMeans is known to have a memory leak on Windows with MKL, when there are less chunks than available threads. You can avoid it by setting the environment variable OMP_NUM_THREADS=2.\n",
      "  warnings.warn(\n",
      "C:\\Anaconda\\Lib\\site-packages\\sklearn\\cluster\\_kmeans.py:1429: UserWarning: KMeans is known to have a memory leak on Windows with MKL, when there are less chunks than available threads. You can avoid it by setting the environment variable OMP_NUM_THREADS=2.\n",
      "  warnings.warn(\n",
      "C:\\Anaconda\\Lib\\site-packages\\sklearn\\cluster\\_kmeans.py:1429: UserWarning: KMeans is known to have a memory leak on Windows with MKL, when there are less chunks than available threads. You can avoid it by setting the environment variable OMP_NUM_THREADS=2.\n",
      "  warnings.warn(\n",
      "C:\\Anaconda\\Lib\\site-packages\\sklearn\\cluster\\_kmeans.py:1429: UserWarning: KMeans is known to have a memory leak on Windows with MKL, when there are less chunks than available threads. You can avoid it by setting the environment variable OMP_NUM_THREADS=2.\n",
      "  warnings.warn(\n",
      "C:\\Anaconda\\Lib\\site-packages\\sklearn\\cluster\\_kmeans.py:1429: UserWarning: KMeans is known to have a memory leak on Windows with MKL, when there are less chunks than available threads. You can avoid it by setting the environment variable OMP_NUM_THREADS=2.\n",
      "  warnings.warn(\n"
     ]
    },
    {
     "name": "stderr",
     "output_type": "stream",
     "text": [
      "C:\\Anaconda\\Lib\\site-packages\\sklearn\\cluster\\_kmeans.py:1429: UserWarning: KMeans is known to have a memory leak on Windows with MKL, when there are less chunks than available threads. You can avoid it by setting the environment variable OMP_NUM_THREADS=2.\n",
      "  warnings.warn(\n",
      "C:\\Anaconda\\Lib\\site-packages\\sklearn\\cluster\\_kmeans.py:1429: UserWarning: KMeans is known to have a memory leak on Windows with MKL, when there are less chunks than available threads. You can avoid it by setting the environment variable OMP_NUM_THREADS=2.\n",
      "  warnings.warn(\n",
      "C:\\Anaconda\\Lib\\site-packages\\sklearn\\cluster\\_kmeans.py:1429: UserWarning: KMeans is known to have a memory leak on Windows with MKL, when there are less chunks than available threads. You can avoid it by setting the environment variable OMP_NUM_THREADS=2.\n",
      "  warnings.warn(\n",
      "C:\\Anaconda\\Lib\\site-packages\\sklearn\\cluster\\_kmeans.py:1429: UserWarning: KMeans is known to have a memory leak on Windows with MKL, when there are less chunks than available threads. You can avoid it by setting the environment variable OMP_NUM_THREADS=2.\n",
      "  warnings.warn(\n",
      "C:\\Anaconda\\Lib\\site-packages\\sklearn\\cluster\\_kmeans.py:1429: UserWarning: KMeans is known to have a memory leak on Windows with MKL, when there are less chunks than available threads. You can avoid it by setting the environment variable OMP_NUM_THREADS=2.\n",
      "  warnings.warn(\n",
      "C:\\Anaconda\\Lib\\site-packages\\sklearn\\cluster\\_kmeans.py:1429: UserWarning: KMeans is known to have a memory leak on Windows with MKL, when there are less chunks than available threads. You can avoid it by setting the environment variable OMP_NUM_THREADS=2.\n",
      "  warnings.warn(\n",
      "C:\\Anaconda\\Lib\\site-packages\\sklearn\\cluster\\_kmeans.py:1429: UserWarning: KMeans is known to have a memory leak on Windows with MKL, when there are less chunks than available threads. You can avoid it by setting the environment variable OMP_NUM_THREADS=2.\n",
      "  warnings.warn(\n",
      "C:\\Anaconda\\Lib\\site-packages\\sklearn\\cluster\\_kmeans.py:1429: UserWarning: KMeans is known to have a memory leak on Windows with MKL, when there are less chunks than available threads. You can avoid it by setting the environment variable OMP_NUM_THREADS=2.\n",
      "  warnings.warn(\n",
      "C:\\Anaconda\\Lib\\site-packages\\sklearn\\cluster\\_kmeans.py:1429: UserWarning: KMeans is known to have a memory leak on Windows with MKL, when there are less chunks than available threads. You can avoid it by setting the environment variable OMP_NUM_THREADS=2.\n",
      "  warnings.warn(\n",
      "C:\\Anaconda\\Lib\\site-packages\\sklearn\\cluster\\_kmeans.py:1429: UserWarning: KMeans is known to have a memory leak on Windows with MKL, when there are less chunks than available threads. You can avoid it by setting the environment variable OMP_NUM_THREADS=2.\n",
      "  warnings.warn(\n",
      "C:\\Anaconda\\Lib\\site-packages\\sklearn\\cluster\\_kmeans.py:1429: UserWarning: KMeans is known to have a memory leak on Windows with MKL, when there are less chunks than available threads. You can avoid it by setting the environment variable OMP_NUM_THREADS=2.\n",
      "  warnings.warn(\n",
      "C:\\Anaconda\\Lib\\site-packages\\sklearn\\cluster\\_kmeans.py:1429: UserWarning: KMeans is known to have a memory leak on Windows with MKL, when there are less chunks than available threads. You can avoid it by setting the environment variable OMP_NUM_THREADS=2.\n",
      "  warnings.warn(\n",
      "C:\\Anaconda\\Lib\\site-packages\\sklearn\\cluster\\_kmeans.py:1429: UserWarning: KMeans is known to have a memory leak on Windows with MKL, when there are less chunks than available threads. You can avoid it by setting the environment variable OMP_NUM_THREADS=2.\n",
      "  warnings.warn(\n",
      "C:\\Anaconda\\Lib\\site-packages\\sklearn\\cluster\\_kmeans.py:1429: UserWarning: KMeans is known to have a memory leak on Windows with MKL, when there are less chunks than available threads. You can avoid it by setting the environment variable OMP_NUM_THREADS=2.\n",
      "  warnings.warn(\n",
      "C:\\Anaconda\\Lib\\site-packages\\sklearn\\cluster\\_kmeans.py:1429: UserWarning: KMeans is known to have a memory leak on Windows with MKL, when there are less chunks than available threads. You can avoid it by setting the environment variable OMP_NUM_THREADS=2.\n",
      "  warnings.warn(\n",
      "C:\\Anaconda\\Lib\\site-packages\\sklearn\\cluster\\_kmeans.py:1429: UserWarning: KMeans is known to have a memory leak on Windows with MKL, when there are less chunks than available threads. You can avoid it by setting the environment variable OMP_NUM_THREADS=2.\n",
      "  warnings.warn(\n",
      "C:\\Anaconda\\Lib\\site-packages\\sklearn\\cluster\\_kmeans.py:1429: UserWarning: KMeans is known to have a memory leak on Windows with MKL, when there are less chunks than available threads. You can avoid it by setting the environment variable OMP_NUM_THREADS=2.\n",
      "  warnings.warn(\n",
      "C:\\Anaconda\\Lib\\site-packages\\sklearn\\cluster\\_kmeans.py:1429: UserWarning: KMeans is known to have a memory leak on Windows with MKL, when there are less chunks than available threads. You can avoid it by setting the environment variable OMP_NUM_THREADS=2.\n",
      "  warnings.warn(\n",
      "C:\\Anaconda\\Lib\\site-packages\\sklearn\\cluster\\_kmeans.py:1429: UserWarning: KMeans is known to have a memory leak on Windows with MKL, when there are less chunks than available threads. You can avoid it by setting the environment variable OMP_NUM_THREADS=2.\n",
      "  warnings.warn(\n",
      "C:\\Anaconda\\Lib\\site-packages\\sklearn\\cluster\\_kmeans.py:1429: UserWarning: KMeans is known to have a memory leak on Windows with MKL, when there are less chunks than available threads. You can avoid it by setting the environment variable OMP_NUM_THREADS=2.\n",
      "  warnings.warn(\n",
      "C:\\Anaconda\\Lib\\site-packages\\sklearn\\cluster\\_kmeans.py:1429: UserWarning: KMeans is known to have a memory leak on Windows with MKL, when there are less chunks than available threads. You can avoid it by setting the environment variable OMP_NUM_THREADS=2.\n",
      "  warnings.warn(\n",
      "C:\\Anaconda\\Lib\\site-packages\\sklearn\\cluster\\_kmeans.py:1429: UserWarning: KMeans is known to have a memory leak on Windows with MKL, when there are less chunks than available threads. You can avoid it by setting the environment variable OMP_NUM_THREADS=2.\n",
      "  warnings.warn(\n",
      "C:\\Anaconda\\Lib\\site-packages\\sklearn\\cluster\\_kmeans.py:1429: UserWarning: KMeans is known to have a memory leak on Windows with MKL, when there are less chunks than available threads. You can avoid it by setting the environment variable OMP_NUM_THREADS=2.\n",
      "  warnings.warn(\n",
      "C:\\Anaconda\\Lib\\site-packages\\sklearn\\cluster\\_kmeans.py:1429: UserWarning: KMeans is known to have a memory leak on Windows with MKL, when there are less chunks than available threads. You can avoid it by setting the environment variable OMP_NUM_THREADS=2.\n",
      "  warnings.warn(\n",
      "C:\\Anaconda\\Lib\\site-packages\\sklearn\\cluster\\_kmeans.py:1429: UserWarning: KMeans is known to have a memory leak on Windows with MKL, when there are less chunks than available threads. You can avoid it by setting the environment variable OMP_NUM_THREADS=2.\n",
      "  warnings.warn(\n",
      "C:\\Anaconda\\Lib\\site-packages\\sklearn\\cluster\\_kmeans.py:1429: UserWarning: KMeans is known to have a memory leak on Windows with MKL, when there are less chunks than available threads. You can avoid it by setting the environment variable OMP_NUM_THREADS=2.\n",
      "  warnings.warn(\n",
      "C:\\Anaconda\\Lib\\site-packages\\sklearn\\cluster\\_kmeans.py:1429: UserWarning: KMeans is known to have a memory leak on Windows with MKL, when there are less chunks than available threads. You can avoid it by setting the environment variable OMP_NUM_THREADS=2.\n",
      "  warnings.warn(\n",
      "C:\\Anaconda\\Lib\\site-packages\\sklearn\\cluster\\_kmeans.py:1429: UserWarning: KMeans is known to have a memory leak on Windows with MKL, when there are less chunks than available threads. You can avoid it by setting the environment variable OMP_NUM_THREADS=2.\n",
      "  warnings.warn(\n",
      "C:\\Anaconda\\Lib\\site-packages\\sklearn\\cluster\\_kmeans.py:1429: UserWarning: KMeans is known to have a memory leak on Windows with MKL, when there are less chunks than available threads. You can avoid it by setting the environment variable OMP_NUM_THREADS=2.\n",
      "  warnings.warn(\n",
      "C:\\Anaconda\\Lib\\site-packages\\sklearn\\cluster\\_kmeans.py:1429: UserWarning: KMeans is known to have a memory leak on Windows with MKL, when there are less chunks than available threads. You can avoid it by setting the environment variable OMP_NUM_THREADS=2.\n",
      "  warnings.warn(\n",
      "C:\\Anaconda\\Lib\\site-packages\\sklearn\\cluster\\_kmeans.py:1429: UserWarning: KMeans is known to have a memory leak on Windows with MKL, when there are less chunks than available threads. You can avoid it by setting the environment variable OMP_NUM_THREADS=2.\n",
      "  warnings.warn(\n",
      "C:\\Anaconda\\Lib\\site-packages\\sklearn\\cluster\\_kmeans.py:1429: UserWarning: KMeans is known to have a memory leak on Windows with MKL, when there are less chunks than available threads. You can avoid it by setting the environment variable OMP_NUM_THREADS=2.\n",
      "  warnings.warn(\n",
      "C:\\Anaconda\\Lib\\site-packages\\sklearn\\cluster\\_kmeans.py:1429: UserWarning: KMeans is known to have a memory leak on Windows with MKL, when there are less chunks than available threads. You can avoid it by setting the environment variable OMP_NUM_THREADS=2.\n",
      "  warnings.warn(\n",
      "C:\\Anaconda\\Lib\\site-packages\\sklearn\\cluster\\_kmeans.py:1429: UserWarning: KMeans is known to have a memory leak on Windows with MKL, when there are less chunks than available threads. You can avoid it by setting the environment variable OMP_NUM_THREADS=2.\n",
      "  warnings.warn(\n",
      "C:\\Anaconda\\Lib\\site-packages\\sklearn\\cluster\\_kmeans.py:1429: UserWarning: KMeans is known to have a memory leak on Windows with MKL, when there are less chunks than available threads. You can avoid it by setting the environment variable OMP_NUM_THREADS=2.\n",
      "  warnings.warn(\n"
     ]
    },
    {
     "name": "stderr",
     "output_type": "stream",
     "text": [
      "C:\\Anaconda\\Lib\\site-packages\\sklearn\\cluster\\_kmeans.py:1429: UserWarning: KMeans is known to have a memory leak on Windows with MKL, when there are less chunks than available threads. You can avoid it by setting the environment variable OMP_NUM_THREADS=2.\n",
      "  warnings.warn(\n",
      "C:\\Anaconda\\Lib\\site-packages\\sklearn\\cluster\\_kmeans.py:1429: UserWarning: KMeans is known to have a memory leak on Windows with MKL, when there are less chunks than available threads. You can avoid it by setting the environment variable OMP_NUM_THREADS=2.\n",
      "  warnings.warn(\n",
      "C:\\Anaconda\\Lib\\site-packages\\sklearn\\cluster\\_kmeans.py:1429: UserWarning: KMeans is known to have a memory leak on Windows with MKL, when there are less chunks than available threads. You can avoid it by setting the environment variable OMP_NUM_THREADS=2.\n",
      "  warnings.warn(\n",
      "C:\\Anaconda\\Lib\\site-packages\\sklearn\\cluster\\_kmeans.py:1429: UserWarning: KMeans is known to have a memory leak on Windows with MKL, when there are less chunks than available threads. You can avoid it by setting the environment variable OMP_NUM_THREADS=2.\n",
      "  warnings.warn(\n",
      "C:\\Anaconda\\Lib\\site-packages\\sklearn\\cluster\\_kmeans.py:1429: UserWarning: KMeans is known to have a memory leak on Windows with MKL, when there are less chunks than available threads. You can avoid it by setting the environment variable OMP_NUM_THREADS=2.\n",
      "  warnings.warn(\n",
      "C:\\Anaconda\\Lib\\site-packages\\sklearn\\cluster\\_kmeans.py:1429: UserWarning: KMeans is known to have a memory leak on Windows with MKL, when there are less chunks than available threads. You can avoid it by setting the environment variable OMP_NUM_THREADS=2.\n",
      "  warnings.warn(\n",
      "C:\\Anaconda\\Lib\\site-packages\\sklearn\\cluster\\_kmeans.py:1429: UserWarning: KMeans is known to have a memory leak on Windows with MKL, when there are less chunks than available threads. You can avoid it by setting the environment variable OMP_NUM_THREADS=2.\n",
      "  warnings.warn(\n",
      "C:\\Anaconda\\Lib\\site-packages\\sklearn\\cluster\\_kmeans.py:1429: UserWarning: KMeans is known to have a memory leak on Windows with MKL, when there are less chunks than available threads. You can avoid it by setting the environment variable OMP_NUM_THREADS=2.\n",
      "  warnings.warn(\n",
      "C:\\Anaconda\\Lib\\site-packages\\sklearn\\cluster\\_kmeans.py:1429: UserWarning: KMeans is known to have a memory leak on Windows with MKL, when there are less chunks than available threads. You can avoid it by setting the environment variable OMP_NUM_THREADS=2.\n",
      "  warnings.warn(\n",
      "C:\\Anaconda\\Lib\\site-packages\\sklearn\\cluster\\_kmeans.py:1429: UserWarning: KMeans is known to have a memory leak on Windows with MKL, when there are less chunks than available threads. You can avoid it by setting the environment variable OMP_NUM_THREADS=2.\n",
      "  warnings.warn(\n",
      "C:\\Anaconda\\Lib\\site-packages\\sklearn\\cluster\\_kmeans.py:1429: UserWarning: KMeans is known to have a memory leak on Windows with MKL, when there are less chunks than available threads. You can avoid it by setting the environment variable OMP_NUM_THREADS=2.\n",
      "  warnings.warn(\n",
      "C:\\Anaconda\\Lib\\site-packages\\sklearn\\cluster\\_kmeans.py:1429: UserWarning: KMeans is known to have a memory leak on Windows with MKL, when there are less chunks than available threads. You can avoid it by setting the environment variable OMP_NUM_THREADS=2.\n",
      "  warnings.warn(\n",
      "C:\\Anaconda\\Lib\\site-packages\\sklearn\\cluster\\_kmeans.py:1429: UserWarning: KMeans is known to have a memory leak on Windows with MKL, when there are less chunks than available threads. You can avoid it by setting the environment variable OMP_NUM_THREADS=2.\n",
      "  warnings.warn(\n",
      "C:\\Anaconda\\Lib\\site-packages\\sklearn\\cluster\\_kmeans.py:1429: UserWarning: KMeans is known to have a memory leak on Windows with MKL, when there are less chunks than available threads. You can avoid it by setting the environment variable OMP_NUM_THREADS=2.\n",
      "  warnings.warn(\n",
      "C:\\Anaconda\\Lib\\site-packages\\sklearn\\cluster\\_kmeans.py:1429: UserWarning: KMeans is known to have a memory leak on Windows with MKL, when there are less chunks than available threads. You can avoid it by setting the environment variable OMP_NUM_THREADS=2.\n",
      "  warnings.warn(\n",
      "C:\\Anaconda\\Lib\\site-packages\\sklearn\\cluster\\_kmeans.py:1429: UserWarning: KMeans is known to have a memory leak on Windows with MKL, when there are less chunks than available threads. You can avoid it by setting the environment variable OMP_NUM_THREADS=2.\n",
      "  warnings.warn(\n",
      "C:\\Anaconda\\Lib\\site-packages\\sklearn\\cluster\\_kmeans.py:1429: UserWarning: KMeans is known to have a memory leak on Windows with MKL, when there are less chunks than available threads. You can avoid it by setting the environment variable OMP_NUM_THREADS=2.\n",
      "  warnings.warn(\n",
      "C:\\Anaconda\\Lib\\site-packages\\sklearn\\cluster\\_kmeans.py:1429: UserWarning: KMeans is known to have a memory leak on Windows with MKL, when there are less chunks than available threads. You can avoid it by setting the environment variable OMP_NUM_THREADS=2.\n",
      "  warnings.warn(\n",
      "C:\\Anaconda\\Lib\\site-packages\\sklearn\\cluster\\_kmeans.py:1429: UserWarning: KMeans is known to have a memory leak on Windows with MKL, when there are less chunks than available threads. You can avoid it by setting the environment variable OMP_NUM_THREADS=2.\n",
      "  warnings.warn(\n",
      "C:\\Anaconda\\Lib\\site-packages\\sklearn\\cluster\\_kmeans.py:1429: UserWarning: KMeans is known to have a memory leak on Windows with MKL, when there are less chunks than available threads. You can avoid it by setting the environment variable OMP_NUM_THREADS=2.\n",
      "  warnings.warn(\n",
      "C:\\Anaconda\\Lib\\site-packages\\sklearn\\cluster\\_kmeans.py:1429: UserWarning: KMeans is known to have a memory leak on Windows with MKL, when there are less chunks than available threads. You can avoid it by setting the environment variable OMP_NUM_THREADS=2.\n",
      "  warnings.warn(\n",
      "C:\\Anaconda\\Lib\\site-packages\\sklearn\\cluster\\_kmeans.py:1429: UserWarning: KMeans is known to have a memory leak on Windows with MKL, when there are less chunks than available threads. You can avoid it by setting the environment variable OMP_NUM_THREADS=2.\n",
      "  warnings.warn(\n",
      "C:\\Anaconda\\Lib\\site-packages\\sklearn\\cluster\\_kmeans.py:1429: UserWarning: KMeans is known to have a memory leak on Windows with MKL, when there are less chunks than available threads. You can avoid it by setting the environment variable OMP_NUM_THREADS=2.\n",
      "  warnings.warn(\n",
      "C:\\Anaconda\\Lib\\site-packages\\sklearn\\cluster\\_kmeans.py:1429: UserWarning: KMeans is known to have a memory leak on Windows with MKL, when there are less chunks than available threads. You can avoid it by setting the environment variable OMP_NUM_THREADS=2.\n",
      "  warnings.warn(\n",
      "C:\\Anaconda\\Lib\\site-packages\\sklearn\\cluster\\_kmeans.py:1429: UserWarning: KMeans is known to have a memory leak on Windows with MKL, when there are less chunks than available threads. You can avoid it by setting the environment variable OMP_NUM_THREADS=2.\n",
      "  warnings.warn(\n",
      "C:\\Anaconda\\Lib\\site-packages\\sklearn\\cluster\\_kmeans.py:1429: UserWarning: KMeans is known to have a memory leak on Windows with MKL, when there are less chunks than available threads. You can avoid it by setting the environment variable OMP_NUM_THREADS=2.\n",
      "  warnings.warn(\n",
      "C:\\Anaconda\\Lib\\site-packages\\sklearn\\cluster\\_kmeans.py:1429: UserWarning: KMeans is known to have a memory leak on Windows with MKL, when there are less chunks than available threads. You can avoid it by setting the environment variable OMP_NUM_THREADS=2.\n",
      "  warnings.warn(\n",
      "C:\\Anaconda\\Lib\\site-packages\\sklearn\\cluster\\_kmeans.py:1429: UserWarning: KMeans is known to have a memory leak on Windows with MKL, when there are less chunks than available threads. You can avoid it by setting the environment variable OMP_NUM_THREADS=2.\n",
      "  warnings.warn(\n",
      "C:\\Anaconda\\Lib\\site-packages\\sklearn\\cluster\\_kmeans.py:1429: UserWarning: KMeans is known to have a memory leak on Windows with MKL, when there are less chunks than available threads. You can avoid it by setting the environment variable OMP_NUM_THREADS=2.\n",
      "  warnings.warn(\n",
      "C:\\Anaconda\\Lib\\site-packages\\sklearn\\cluster\\_kmeans.py:1429: UserWarning: KMeans is known to have a memory leak on Windows with MKL, when there are less chunks than available threads. You can avoid it by setting the environment variable OMP_NUM_THREADS=2.\n",
      "  warnings.warn(\n",
      "C:\\Anaconda\\Lib\\site-packages\\sklearn\\cluster\\_kmeans.py:1429: UserWarning: KMeans is known to have a memory leak on Windows with MKL, when there are less chunks than available threads. You can avoid it by setting the environment variable OMP_NUM_THREADS=2.\n",
      "  warnings.warn(\n",
      "C:\\Anaconda\\Lib\\site-packages\\sklearn\\cluster\\_kmeans.py:1429: UserWarning: KMeans is known to have a memory leak on Windows with MKL, when there are less chunks than available threads. You can avoid it by setting the environment variable OMP_NUM_THREADS=2.\n",
      "  warnings.warn(\n",
      "C:\\Anaconda\\Lib\\site-packages\\sklearn\\cluster\\_kmeans.py:1429: UserWarning: KMeans is known to have a memory leak on Windows with MKL, when there are less chunks than available threads. You can avoid it by setting the environment variable OMP_NUM_THREADS=2.\n",
      "  warnings.warn(\n"
     ]
    },
    {
     "name": "stderr",
     "output_type": "stream",
     "text": [
      "C:\\Anaconda\\Lib\\site-packages\\sklearn\\cluster\\_kmeans.py:1429: UserWarning: KMeans is known to have a memory leak on Windows with MKL, when there are less chunks than available threads. You can avoid it by setting the environment variable OMP_NUM_THREADS=2.\n",
      "  warnings.warn(\n",
      "C:\\Anaconda\\Lib\\site-packages\\sklearn\\cluster\\_kmeans.py:1429: UserWarning: KMeans is known to have a memory leak on Windows with MKL, when there are less chunks than available threads. You can avoid it by setting the environment variable OMP_NUM_THREADS=2.\n",
      "  warnings.warn(\n",
      "C:\\Anaconda\\Lib\\site-packages\\sklearn\\cluster\\_kmeans.py:1429: UserWarning: KMeans is known to have a memory leak on Windows with MKL, when there are less chunks than available threads. You can avoid it by setting the environment variable OMP_NUM_THREADS=2.\n",
      "  warnings.warn(\n",
      "C:\\Anaconda\\Lib\\site-packages\\sklearn\\cluster\\_kmeans.py:1429: UserWarning: KMeans is known to have a memory leak on Windows with MKL, when there are less chunks than available threads. You can avoid it by setting the environment variable OMP_NUM_THREADS=2.\n",
      "  warnings.warn(\n",
      "C:\\Anaconda\\Lib\\site-packages\\sklearn\\cluster\\_kmeans.py:1429: UserWarning: KMeans is known to have a memory leak on Windows with MKL, when there are less chunks than available threads. You can avoid it by setting the environment variable OMP_NUM_THREADS=2.\n",
      "  warnings.warn(\n",
      "C:\\Anaconda\\Lib\\site-packages\\sklearn\\cluster\\_kmeans.py:1429: UserWarning: KMeans is known to have a memory leak on Windows with MKL, when there are less chunks than available threads. You can avoid it by setting the environment variable OMP_NUM_THREADS=2.\n",
      "  warnings.warn(\n",
      "C:\\Anaconda\\Lib\\site-packages\\sklearn\\cluster\\_kmeans.py:1429: UserWarning: KMeans is known to have a memory leak on Windows with MKL, when there are less chunks than available threads. You can avoid it by setting the environment variable OMP_NUM_THREADS=2.\n",
      "  warnings.warn(\n",
      "C:\\Anaconda\\Lib\\site-packages\\sklearn\\cluster\\_kmeans.py:1429: UserWarning: KMeans is known to have a memory leak on Windows with MKL, when there are less chunks than available threads. You can avoid it by setting the environment variable OMP_NUM_THREADS=2.\n",
      "  warnings.warn(\n",
      "C:\\Anaconda\\Lib\\site-packages\\sklearn\\cluster\\_kmeans.py:1429: UserWarning: KMeans is known to have a memory leak on Windows with MKL, when there are less chunks than available threads. You can avoid it by setting the environment variable OMP_NUM_THREADS=2.\n",
      "  warnings.warn(\n",
      "C:\\Anaconda\\Lib\\site-packages\\sklearn\\cluster\\_kmeans.py:1429: UserWarning: KMeans is known to have a memory leak on Windows with MKL, when there are less chunks than available threads. You can avoid it by setting the environment variable OMP_NUM_THREADS=2.\n",
      "  warnings.warn(\n",
      "C:\\Anaconda\\Lib\\site-packages\\sklearn\\cluster\\_kmeans.py:1429: UserWarning: KMeans is known to have a memory leak on Windows with MKL, when there are less chunks than available threads. You can avoid it by setting the environment variable OMP_NUM_THREADS=2.\n",
      "  warnings.warn(\n",
      "C:\\Anaconda\\Lib\\site-packages\\sklearn\\cluster\\_kmeans.py:1429: UserWarning: KMeans is known to have a memory leak on Windows with MKL, when there are less chunks than available threads. You can avoid it by setting the environment variable OMP_NUM_THREADS=2.\n",
      "  warnings.warn(\n",
      "C:\\Anaconda\\Lib\\site-packages\\sklearn\\cluster\\_kmeans.py:1429: UserWarning: KMeans is known to have a memory leak on Windows with MKL, when there are less chunks than available threads. You can avoid it by setting the environment variable OMP_NUM_THREADS=2.\n",
      "  warnings.warn(\n",
      "C:\\Anaconda\\Lib\\site-packages\\sklearn\\cluster\\_kmeans.py:1429: UserWarning: KMeans is known to have a memory leak on Windows with MKL, when there are less chunks than available threads. You can avoid it by setting the environment variable OMP_NUM_THREADS=2.\n",
      "  warnings.warn(\n",
      "C:\\Anaconda\\Lib\\site-packages\\sklearn\\cluster\\_kmeans.py:1429: UserWarning: KMeans is known to have a memory leak on Windows with MKL, when there are less chunks than available threads. You can avoid it by setting the environment variable OMP_NUM_THREADS=2.\n",
      "  warnings.warn(\n",
      "C:\\Anaconda\\Lib\\site-packages\\sklearn\\cluster\\_kmeans.py:1429: UserWarning: KMeans is known to have a memory leak on Windows with MKL, when there are less chunks than available threads. You can avoid it by setting the environment variable OMP_NUM_THREADS=2.\n",
      "  warnings.warn(\n",
      "C:\\Anaconda\\Lib\\site-packages\\sklearn\\cluster\\_kmeans.py:1429: UserWarning: KMeans is known to have a memory leak on Windows with MKL, when there are less chunks than available threads. You can avoid it by setting the environment variable OMP_NUM_THREADS=2.\n",
      "  warnings.warn(\n",
      "C:\\Anaconda\\Lib\\site-packages\\sklearn\\cluster\\_kmeans.py:1429: UserWarning: KMeans is known to have a memory leak on Windows with MKL, when there are less chunks than available threads. You can avoid it by setting the environment variable OMP_NUM_THREADS=2.\n",
      "  warnings.warn(\n",
      "C:\\Anaconda\\Lib\\site-packages\\sklearn\\cluster\\_kmeans.py:1429: UserWarning: KMeans is known to have a memory leak on Windows with MKL, when there are less chunks than available threads. You can avoid it by setting the environment variable OMP_NUM_THREADS=2.\n",
      "  warnings.warn(\n",
      "C:\\Anaconda\\Lib\\site-packages\\sklearn\\cluster\\_kmeans.py:1429: UserWarning: KMeans is known to have a memory leak on Windows with MKL, when there are less chunks than available threads. You can avoid it by setting the environment variable OMP_NUM_THREADS=2.\n",
      "  warnings.warn(\n",
      "C:\\Anaconda\\Lib\\site-packages\\sklearn\\cluster\\_kmeans.py:1429: UserWarning: KMeans is known to have a memory leak on Windows with MKL, when there are less chunks than available threads. You can avoid it by setting the environment variable OMP_NUM_THREADS=2.\n",
      "  warnings.warn(\n",
      "C:\\Anaconda\\Lib\\site-packages\\sklearn\\cluster\\_kmeans.py:1429: UserWarning: KMeans is known to have a memory leak on Windows with MKL, when there are less chunks than available threads. You can avoid it by setting the environment variable OMP_NUM_THREADS=2.\n",
      "  warnings.warn(\n",
      "C:\\Anaconda\\Lib\\site-packages\\sklearn\\cluster\\_kmeans.py:1429: UserWarning: KMeans is known to have a memory leak on Windows with MKL, when there are less chunks than available threads. You can avoid it by setting the environment variable OMP_NUM_THREADS=2.\n",
      "  warnings.warn(\n",
      "C:\\Anaconda\\Lib\\site-packages\\sklearn\\cluster\\_kmeans.py:1429: UserWarning: KMeans is known to have a memory leak on Windows with MKL, when there are less chunks than available threads. You can avoid it by setting the environment variable OMP_NUM_THREADS=2.\n",
      "  warnings.warn(\n",
      "C:\\Anaconda\\Lib\\site-packages\\sklearn\\cluster\\_kmeans.py:1429: UserWarning: KMeans is known to have a memory leak on Windows with MKL, when there are less chunks than available threads. You can avoid it by setting the environment variable OMP_NUM_THREADS=2.\n",
      "  warnings.warn(\n",
      "C:\\Anaconda\\Lib\\site-packages\\sklearn\\cluster\\_kmeans.py:1429: UserWarning: KMeans is known to have a memory leak on Windows with MKL, when there are less chunks than available threads. You can avoid it by setting the environment variable OMP_NUM_THREADS=2.\n",
      "  warnings.warn(\n",
      "C:\\Anaconda\\Lib\\site-packages\\sklearn\\cluster\\_kmeans.py:1429: UserWarning: KMeans is known to have a memory leak on Windows with MKL, when there are less chunks than available threads. You can avoid it by setting the environment variable OMP_NUM_THREADS=2.\n",
      "  warnings.warn(\n",
      "C:\\Anaconda\\Lib\\site-packages\\sklearn\\cluster\\_kmeans.py:1429: UserWarning: KMeans is known to have a memory leak on Windows with MKL, when there are less chunks than available threads. You can avoid it by setting the environment variable OMP_NUM_THREADS=2.\n",
      "  warnings.warn(\n",
      "C:\\Anaconda\\Lib\\site-packages\\sklearn\\cluster\\_kmeans.py:1429: UserWarning: KMeans is known to have a memory leak on Windows with MKL, when there are less chunks than available threads. You can avoid it by setting the environment variable OMP_NUM_THREADS=2.\n",
      "  warnings.warn(\n"
     ]
    }
   ],
   "source": [
    "import numpy as np\n",
    "import k3d\n",
    "import time\n",
    "from sklearn.cluster import KMeans\n",
    "from matplotlib.cm import get_cmap\n",
    "\n",
    "np.random.seed(42)\n",
    "positions = np.random.uniform(-1, 1, (500, 3)).astype(np.float32)\n",
    "velocities = np.random.normal(scale=0.01, size=positions.shape).astype(np.float32)\n",
    "\n",
    "plot = k3d.plot()\n",
    "cmap = get_cmap('viridis')\n",
    "n_clusters = 4\n",
    "\n",
    "points = k3d.points(positions, point_size=0.1, color=0x00ff00, opacity=0.5)\n",
    "centroids = k3d.points(np.zeros((n_clusters, 3)), point_size=0.3, color=0xffffff)\n",
    "plot += points\n",
    "plot += centroids\n",
    "plot.display()\n",
    "\n",
    "previous_centers = None\n",
    "\n",
    "# Animation loop\n",
    "for _ in range(200):\n",
    "    positions += velocities\n",
    "    velocities *= 0.95\n",
    "    #Update clustering with CONTINUOUS CENTROID MOVEMENT\n",
    "    if previous_centers is None:\n",
    "        kmeans = KMeans(n_clusters=n_clusters, n_init='auto').fit(positions)\n",
    "    else:\n",
    "        kmeans = KMeans(n_clusters=n_clusters, init=previous_centers, n_init=1).fit(positions)\n",
    "    \n",
    "    labels = kmeans.labels_\n",
    "    new_centers = kmeans.cluster_centers_.astype(np.float32)\n",
    "    previous_centers = new_centers  # Store for next iteration\n",
    "    \n",
    "    colors = (cmap(labels / (n_clusters-1))[:, :3] * 255).astype(np.uint32)\n",
    "    points.colors = (colors[:,0] << 16) + (colors[:,1] << 8) + colors[:,2]\n",
    "    \n",
    "    centroids.positions = new_centers\n",
    "    \n",
    "    positions += np.random.normal(scale=0.005, size=positions.shape).astype(np.float32)\n",
    "    \n",
    "    time.sleep(0.03)\n"
   ]
  },
  {
   "cell_type": "markdown",
   "id": "bdc29a07-6063-4940-ba56-3a67e262b3ae",
   "metadata": {},
   "source": [
    "## Task 4: Create a Procedural Voxel Scene with Multiple Thresholded Volumes\n",
    "\n",
    "Generate and combine multiple scalar fields (e.g., Gaussian blobs, sinusoids), apply different thresholds to each, and render them together using voxels in different colors.\n",
    "Steps: \n",
    "- Generate two or more 3D scalar fields (e.g., blob1, blob2).\n",
    "- Threshold each scalar field independently with different values.\n",
    "- Combine their binary masks, ensuring no overlap or blending.\n",
    "- Assign each voxel group a distinct color using the color_map argument in k3d.voxels.\n",
    "- Animate the thresholds over time and observe shape morphing.\n",
    "\n",
    "Expected Outcome: A multi-object volumetric scene where students explore scalar-to-voxel conversion, boolean logic on volumes, and multi-object 3D rendering."
   ]
  },
  {
   "cell_type": "code",
   "execution_count": null,
   "id": "a51f3b04",
   "metadata": {
    "scrolled": true
   },
   "outputs": [
    {
     "data": {
      "application/vnd.jupyter.widget-view+json": {
       "model_id": "ce7fcd7c7ffe423380fc735402344903",
       "version_major": 2,
       "version_minor": 0
      },
      "text/plain": [
       "Output()"
      ]
     },
     "metadata": {},
     "output_type": "display_data"
    }
   ],
   "source": [
    "import numpy as np\n",
    "import k3d\n",
    "import time\n",
    "\n",
    "grid_size = 64\n",
    "x, y, z = np.meshgrid(np.linspace(-3, 3, grid_size),\n",
    "                      np.linspace(-3, 3, grid_size),\n",
    "                      np.linspace(-3, 3, grid_size),\n",
    "                      indexing='ij')\n",
    "\n",
    "def gaussian_blob(center, sigma=1.0):\n",
    "    return np.exp(-((x-center[0])**2 + (y-center[1])**2 + (z-center[2])**2)/(2*sigma**2))\n",
    "\n",
    "field1 = gaussian_blob([-2, 0, 0], 0.8)\n",
    "field2 = 0.5 * np.sin(2*x) * np.cos(1.5*y) * np.sin(z)\n",
    "\n",
    "def combine_fields(f1, f2, t1, t2):\n",
    "    voxels = np.zeros(f1.shape, dtype=np.uint8)\n",
    "    mask1 = f1 > t1\n",
    "    mask2 = (f2 > t2) & ~mask1\n",
    "    voxels[mask1] = 1\n",
    "    voxels[mask2] = 2\n",
    "    return voxels\n",
    "\n",
    "\n",
    "plot = k3d.plot()\n",
    "colors = [0xff0000, 0x00ff00]\n",
    "voxels = k3d.voxels(\n",
    "    combine_fields(field1, field2, 0.5, 0.4),\n",
    "    color_map=colors,\n",
    "    outlines=False,\n",
    "    opacity=1.0\n",
    ")\n",
    "plot += voxels\n",
    "plot.display()\n",
    "\n",
    "\n",
    "thresholds = {\n",
    "    't1': 0.5,\n",
    "    't2': 0.4\n",
    "}\n",
    "\n",
    "for _ in range(100):\n",
    "    field1 = gaussian_blob([-2 + 3*np.sin(time.time()*0.5), 0, 0], 0.8)\n",
    "    field2 = 0.5 * np.sin(2*x + time.time()) * np.cos(1.5*y) * np.sin(z)\n",
    "    \n",
    "    thresholds['t1'] = 0.4 + 0.2 * np.sin(time.time()*0.8)\n",
    "    thresholds['t2'] = 0.3 + 0.2 * np.cos(time.time()*1.2)\n",
    "    \n",
    "    voxels.voxels = combine_fields(\n",
    "        field1, field2,\n",
    "        thresholds['t1'], thresholds['t2']\n",
    "    )\n",
    "    \n",
    "    time.sleep(0.05)\n"
   ]
  },
  {
   "cell_type": "code",
   "execution_count": null,
   "id": "1a9d57a0",
   "metadata": {},
   "outputs": [],
   "source": []
  }
 ],
 "metadata": {
  "kernelspec": {
   "display_name": "Python 3 (ipykernel)",
   "language": "python",
   "name": "python3"
  },
  "language_info": {
   "codemirror_mode": {
    "name": "ipython",
    "version": 3
   },
   "file_extension": ".py",
   "mimetype": "text/x-python",
   "name": "python",
   "nbconvert_exporter": "python",
   "pygments_lexer": "ipython3",
   "version": "3.12.3"
  }
 },
 "nbformat": 4,
 "nbformat_minor": 5
}
